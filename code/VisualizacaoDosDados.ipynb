{
 "cells": [
  {
   "cell_type": "markdown",
   "id": "00c8ee68-5e8e-4f3d-aca0-93018e9924df",
   "metadata": {},
   "source": [
    "# Visualização dos Dados\n",
    "\n",
    "As visualizações vão ser construídas de duas formas. Primeiro será utilizada a biblioteca *Plotly* para ter uma primeira visão sobre os dados processados na etapa anterior e permitir as primeiras análises. O entendimento dessas informações será utilizada para construir a versão final da visualização utilizando o D3.js. Os códigos e a visualização final estarão linkadas no final desse notebook. "
   ]
  },
  {
   "cell_type": "markdown",
   "id": "cbc159d2-f60f-487f-8597-e2e2f312acbe",
   "metadata": {},
   "source": [
    "## Imports Necessários"
   ]
  },
  {
   "cell_type": "code",
   "execution_count": 120,
   "id": "cf59ffc1-8d8b-4ab1-9d46-c72576f96d75",
   "metadata": {},
   "outputs": [],
   "source": [
    "import seaborn as sns\n",
    "import pandas as pd\n",
    "import plotly.express as px\n",
    "import plotly.graph_objects as go\n",
    "from plotly.subplots import make_subplots\n",
    "import numpy as np \n"
   ]
  },
  {
   "cell_type": "markdown",
   "id": "6597030c-9281-45f4-9b38-3fab097d11ae",
   "metadata": {},
   "source": [
    "## Primeira análise: Percentual de mulheres candidatas x Percentual de mulheres eleitas\n",
    "\n",
    "Nessa análise queremos comparar o % de mulheres candidatas (ou seja, a proporção de pessoas que se declararam do gênero feminino) comparado com a % de homens. Com o foco de dar visibilidade as % das mulheres, somente esses valores serão visualizados. A % de homens é o complemento. "
   ]
  },
  {
   "cell_type": "code",
   "execution_count": 58,
   "id": "29b78e30-a219-4400-87fb-779e1644e03c",
   "metadata": {},
   "outputs": [],
   "source": [
    "## Carregando os Dados\n",
    "\n",
    "data1 = pd.read_csv(\"../output/total_vereadores_por_ano_genero.csv\") # % das pessoas candidatas\n",
    "data2 = pd.read_csv(\"../output/total_vereadores_eleitos_por_ano_genero.csv\") # % das pessoas eleitas"
   ]
  },
  {
   "cell_type": "code",
   "execution_count": 20,
   "id": "80aa51f1-e1fe-4855-ad49-03709cab219d",
   "metadata": {},
   "outputs": [],
   "source": [
    "data1['ano'] = data1['ano'].astype('str')"
   ]
  },
  {
   "cell_type": "markdown",
   "id": "da97249a-c33d-4c7c-9901-e1224b3ab5c5",
   "metadata": {},
   "source": [
    "### Visualização"
   ]
  },
  {
   "cell_type": "code",
   "execution_count": 87,
   "id": "1bc9ec2f-4a5c-4dd4-a918-9fd6c51e9897",
   "metadata": {},
   "outputs": [
    {
     "data": {
      "application/vnd.plotly.v1+json": {
       "config": {
        "plotlyServerURL": "https://plot.ly"
       },
       "data": [
        {
         "hovertemplate": "Ano: %{x} <br /> %: %{y:.1%}",
         "marker": {
          "color": "#708090",
          "line": {
           "color": "#121212",
           "width": 1
          }
         },
         "opacity": 0.7,
         "text": [
          "0.1951052150045745",
          "0.2328395061728395",
          "0.2205405405405405",
          "0.3164",
          "0.3290246768507638",
          "0.3434825543120474"
         ],
         "texttemplate": "%{y:.1%}",
         "type": "bar",
         "x": [
          2000,
          2004,
          2008,
          2012,
          2016,
          2020
         ],
         "xaxis": "x",
         "y": [
          0.1951052150045745,
          0.2328395061728395,
          0.2205405405405405,
          0.3164,
          0.3290246768507638,
          0.3434825543120474
         ],
         "yaxis": "y"
        },
        {
         "hovertemplate": "Ano: %{x} <br /> %: %{y:.1%}",
         "marker": {
          "color": "#708090",
          "line": {
           "color": "#121212",
           "width": 1
          }
         },
         "opacity": 0.7,
         "text": [
          "0.1706398996235884",
          "0.1659451659451659",
          "0.1482014388489208",
          "0.1534591194968553",
          "0.1610486891385767",
          "0.1666666666666666"
         ],
         "texttemplate": "%{y:.1%}",
         "type": "bar",
         "x": [
          2000,
          2004,
          2008,
          2012,
          2016,
          2020
         ],
         "xaxis": "x2",
         "y": [
          0.1706398996235884,
          0.1659451659451659,
          0.1482014388489208,
          0.1534591194968553,
          0.1610486891385767,
          0.1666666666666666
         ],
         "yaxis": "y2"
        }
       ],
       "layout": {
        "annotations": [
         {
          "showarrow": false,
          "text": "% de mulheres candidatas",
          "x": 0.01,
          "xref": "paper",
          "y": 0.99,
          "yref": "paper"
         },
         {
          "showarrow": false,
          "text": "% de mulheres eleitas",
          "x": 0.01,
          "xref": "paper",
          "y": 0.39,
          "yref": "paper"
         },
         {
          "showarrow": false,
          "text": "Do ano 2000 para 2020, <br />a % de mulheres candidatas <br /> subiu de 19% para 34%.",
          "width": 200,
          "x": 0.99,
          "xanchor": "right",
          "xref": "paper",
          "y": 0.99,
          "yref": "paper"
         },
         {
          "showarrow": false,
          "text": "Esse aumento não foi observado <br />na % de mulheres eleitas. <br />A porcentagem se manteve <br /> constante em 20 anos.",
          "width": 220,
          "x": 0.99,
          "xanchor": "right",
          "xref": "paper",
          "y": 0.25,
          "yref": "paper"
         }
        ],
        "height": 600,
        "plot_bgcolor": "#FAFAFA",
        "showlegend": false,
        "template": {
         "data": {
          "bar": [
           {
            "error_x": {
             "color": "#2a3f5f"
            },
            "error_y": {
             "color": "#2a3f5f"
            },
            "marker": {
             "line": {
              "color": "#E5ECF6",
              "width": 0.5
             },
             "pattern": {
              "fillmode": "overlay",
              "size": 10,
              "solidity": 0.2
             }
            },
            "type": "bar"
           }
          ],
          "barpolar": [
           {
            "marker": {
             "line": {
              "color": "#E5ECF6",
              "width": 0.5
             },
             "pattern": {
              "fillmode": "overlay",
              "size": 10,
              "solidity": 0.2
             }
            },
            "type": "barpolar"
           }
          ],
          "carpet": [
           {
            "aaxis": {
             "endlinecolor": "#2a3f5f",
             "gridcolor": "white",
             "linecolor": "white",
             "minorgridcolor": "white",
             "startlinecolor": "#2a3f5f"
            },
            "baxis": {
             "endlinecolor": "#2a3f5f",
             "gridcolor": "white",
             "linecolor": "white",
             "minorgridcolor": "white",
             "startlinecolor": "#2a3f5f"
            },
            "type": "carpet"
           }
          ],
          "choropleth": [
           {
            "colorbar": {
             "outlinewidth": 0,
             "ticks": ""
            },
            "type": "choropleth"
           }
          ],
          "contour": [
           {
            "colorbar": {
             "outlinewidth": 0,
             "ticks": ""
            },
            "colorscale": [
             [
              0,
              "#0d0887"
             ],
             [
              0.1111111111111111,
              "#46039f"
             ],
             [
              0.2222222222222222,
              "#7201a8"
             ],
             [
              0.3333333333333333,
              "#9c179e"
             ],
             [
              0.4444444444444444,
              "#bd3786"
             ],
             [
              0.5555555555555556,
              "#d8576b"
             ],
             [
              0.6666666666666666,
              "#ed7953"
             ],
             [
              0.7777777777777778,
              "#fb9f3a"
             ],
             [
              0.8888888888888888,
              "#fdca26"
             ],
             [
              1,
              "#f0f921"
             ]
            ],
            "type": "contour"
           }
          ],
          "contourcarpet": [
           {
            "colorbar": {
             "outlinewidth": 0,
             "ticks": ""
            },
            "type": "contourcarpet"
           }
          ],
          "heatmap": [
           {
            "colorbar": {
             "outlinewidth": 0,
             "ticks": ""
            },
            "colorscale": [
             [
              0,
              "#0d0887"
             ],
             [
              0.1111111111111111,
              "#46039f"
             ],
             [
              0.2222222222222222,
              "#7201a8"
             ],
             [
              0.3333333333333333,
              "#9c179e"
             ],
             [
              0.4444444444444444,
              "#bd3786"
             ],
             [
              0.5555555555555556,
              "#d8576b"
             ],
             [
              0.6666666666666666,
              "#ed7953"
             ],
             [
              0.7777777777777778,
              "#fb9f3a"
             ],
             [
              0.8888888888888888,
              "#fdca26"
             ],
             [
              1,
              "#f0f921"
             ]
            ],
            "type": "heatmap"
           }
          ],
          "heatmapgl": [
           {
            "colorbar": {
             "outlinewidth": 0,
             "ticks": ""
            },
            "colorscale": [
             [
              0,
              "#0d0887"
             ],
             [
              0.1111111111111111,
              "#46039f"
             ],
             [
              0.2222222222222222,
              "#7201a8"
             ],
             [
              0.3333333333333333,
              "#9c179e"
             ],
             [
              0.4444444444444444,
              "#bd3786"
             ],
             [
              0.5555555555555556,
              "#d8576b"
             ],
             [
              0.6666666666666666,
              "#ed7953"
             ],
             [
              0.7777777777777778,
              "#fb9f3a"
             ],
             [
              0.8888888888888888,
              "#fdca26"
             ],
             [
              1,
              "#f0f921"
             ]
            ],
            "type": "heatmapgl"
           }
          ],
          "histogram": [
           {
            "marker": {
             "pattern": {
              "fillmode": "overlay",
              "size": 10,
              "solidity": 0.2
             }
            },
            "type": "histogram"
           }
          ],
          "histogram2d": [
           {
            "colorbar": {
             "outlinewidth": 0,
             "ticks": ""
            },
            "colorscale": [
             [
              0,
              "#0d0887"
             ],
             [
              0.1111111111111111,
              "#46039f"
             ],
             [
              0.2222222222222222,
              "#7201a8"
             ],
             [
              0.3333333333333333,
              "#9c179e"
             ],
             [
              0.4444444444444444,
              "#bd3786"
             ],
             [
              0.5555555555555556,
              "#d8576b"
             ],
             [
              0.6666666666666666,
              "#ed7953"
             ],
             [
              0.7777777777777778,
              "#fb9f3a"
             ],
             [
              0.8888888888888888,
              "#fdca26"
             ],
             [
              1,
              "#f0f921"
             ]
            ],
            "type": "histogram2d"
           }
          ],
          "histogram2dcontour": [
           {
            "colorbar": {
             "outlinewidth": 0,
             "ticks": ""
            },
            "colorscale": [
             [
              0,
              "#0d0887"
             ],
             [
              0.1111111111111111,
              "#46039f"
             ],
             [
              0.2222222222222222,
              "#7201a8"
             ],
             [
              0.3333333333333333,
              "#9c179e"
             ],
             [
              0.4444444444444444,
              "#bd3786"
             ],
             [
              0.5555555555555556,
              "#d8576b"
             ],
             [
              0.6666666666666666,
              "#ed7953"
             ],
             [
              0.7777777777777778,
              "#fb9f3a"
             ],
             [
              0.8888888888888888,
              "#fdca26"
             ],
             [
              1,
              "#f0f921"
             ]
            ],
            "type": "histogram2dcontour"
           }
          ],
          "mesh3d": [
           {
            "colorbar": {
             "outlinewidth": 0,
             "ticks": ""
            },
            "type": "mesh3d"
           }
          ],
          "parcoords": [
           {
            "line": {
             "colorbar": {
              "outlinewidth": 0,
              "ticks": ""
             }
            },
            "type": "parcoords"
           }
          ],
          "pie": [
           {
            "automargin": true,
            "type": "pie"
           }
          ],
          "scatter": [
           {
            "marker": {
             "colorbar": {
              "outlinewidth": 0,
              "ticks": ""
             }
            },
            "type": "scatter"
           }
          ],
          "scatter3d": [
           {
            "line": {
             "colorbar": {
              "outlinewidth": 0,
              "ticks": ""
             }
            },
            "marker": {
             "colorbar": {
              "outlinewidth": 0,
              "ticks": ""
             }
            },
            "type": "scatter3d"
           }
          ],
          "scattercarpet": [
           {
            "marker": {
             "colorbar": {
              "outlinewidth": 0,
              "ticks": ""
             }
            },
            "type": "scattercarpet"
           }
          ],
          "scattergeo": [
           {
            "marker": {
             "colorbar": {
              "outlinewidth": 0,
              "ticks": ""
             }
            },
            "type": "scattergeo"
           }
          ],
          "scattergl": [
           {
            "marker": {
             "colorbar": {
              "outlinewidth": 0,
              "ticks": ""
             }
            },
            "type": "scattergl"
           }
          ],
          "scattermapbox": [
           {
            "marker": {
             "colorbar": {
              "outlinewidth": 0,
              "ticks": ""
             }
            },
            "type": "scattermapbox"
           }
          ],
          "scatterpolar": [
           {
            "marker": {
             "colorbar": {
              "outlinewidth": 0,
              "ticks": ""
             }
            },
            "type": "scatterpolar"
           }
          ],
          "scatterpolargl": [
           {
            "marker": {
             "colorbar": {
              "outlinewidth": 0,
              "ticks": ""
             }
            },
            "type": "scatterpolargl"
           }
          ],
          "scatterternary": [
           {
            "marker": {
             "colorbar": {
              "outlinewidth": 0,
              "ticks": ""
             }
            },
            "type": "scatterternary"
           }
          ],
          "surface": [
           {
            "colorbar": {
             "outlinewidth": 0,
             "ticks": ""
            },
            "colorscale": [
             [
              0,
              "#0d0887"
             ],
             [
              0.1111111111111111,
              "#46039f"
             ],
             [
              0.2222222222222222,
              "#7201a8"
             ],
             [
              0.3333333333333333,
              "#9c179e"
             ],
             [
              0.4444444444444444,
              "#bd3786"
             ],
             [
              0.5555555555555556,
              "#d8576b"
             ],
             [
              0.6666666666666666,
              "#ed7953"
             ],
             [
              0.7777777777777778,
              "#fb9f3a"
             ],
             [
              0.8888888888888888,
              "#fdca26"
             ],
             [
              1,
              "#f0f921"
             ]
            ],
            "type": "surface"
           }
          ],
          "table": [
           {
            "cells": {
             "fill": {
              "color": "#EBF0F8"
             },
             "line": {
              "color": "white"
             }
            },
            "header": {
             "fill": {
              "color": "#C8D4E3"
             },
             "line": {
              "color": "white"
             }
            },
            "type": "table"
           }
          ]
         },
         "layout": {
          "annotationdefaults": {
           "arrowcolor": "#2a3f5f",
           "arrowhead": 0,
           "arrowwidth": 1
          },
          "autotypenumbers": "strict",
          "coloraxis": {
           "colorbar": {
            "outlinewidth": 0,
            "ticks": ""
           }
          },
          "colorscale": {
           "diverging": [
            [
             0,
             "#8e0152"
            ],
            [
             0.1,
             "#c51b7d"
            ],
            [
             0.2,
             "#de77ae"
            ],
            [
             0.3,
             "#f1b6da"
            ],
            [
             0.4,
             "#fde0ef"
            ],
            [
             0.5,
             "#f7f7f7"
            ],
            [
             0.6,
             "#e6f5d0"
            ],
            [
             0.7,
             "#b8e186"
            ],
            [
             0.8,
             "#7fbc41"
            ],
            [
             0.9,
             "#4d9221"
            ],
            [
             1,
             "#276419"
            ]
           ],
           "sequential": [
            [
             0,
             "#0d0887"
            ],
            [
             0.1111111111111111,
             "#46039f"
            ],
            [
             0.2222222222222222,
             "#7201a8"
            ],
            [
             0.3333333333333333,
             "#9c179e"
            ],
            [
             0.4444444444444444,
             "#bd3786"
            ],
            [
             0.5555555555555556,
             "#d8576b"
            ],
            [
             0.6666666666666666,
             "#ed7953"
            ],
            [
             0.7777777777777778,
             "#fb9f3a"
            ],
            [
             0.8888888888888888,
             "#fdca26"
            ],
            [
             1,
             "#f0f921"
            ]
           ],
           "sequentialminus": [
            [
             0,
             "#0d0887"
            ],
            [
             0.1111111111111111,
             "#46039f"
            ],
            [
             0.2222222222222222,
             "#7201a8"
            ],
            [
             0.3333333333333333,
             "#9c179e"
            ],
            [
             0.4444444444444444,
             "#bd3786"
            ],
            [
             0.5555555555555556,
             "#d8576b"
            ],
            [
             0.6666666666666666,
             "#ed7953"
            ],
            [
             0.7777777777777778,
             "#fb9f3a"
            ],
            [
             0.8888888888888888,
             "#fdca26"
            ],
            [
             1,
             "#f0f921"
            ]
           ]
          },
          "colorway": [
           "#636efa",
           "#EF553B",
           "#00cc96",
           "#ab63fa",
           "#FFA15A",
           "#19d3f3",
           "#FF6692",
           "#B6E880",
           "#FF97FF",
           "#FECB52"
          ],
          "font": {
           "color": "#2a3f5f"
          },
          "geo": {
           "bgcolor": "white",
           "lakecolor": "white",
           "landcolor": "#E5ECF6",
           "showlakes": true,
           "showland": true,
           "subunitcolor": "white"
          },
          "hoverlabel": {
           "align": "left"
          },
          "hovermode": "closest",
          "mapbox": {
           "style": "light"
          },
          "paper_bgcolor": "white",
          "plot_bgcolor": "#E5ECF6",
          "polar": {
           "angularaxis": {
            "gridcolor": "white",
            "linecolor": "white",
            "ticks": ""
           },
           "bgcolor": "#E5ECF6",
           "radialaxis": {
            "gridcolor": "white",
            "linecolor": "white",
            "ticks": ""
           }
          },
          "scene": {
           "xaxis": {
            "backgroundcolor": "#E5ECF6",
            "gridcolor": "white",
            "gridwidth": 2,
            "linecolor": "white",
            "showbackground": true,
            "ticks": "",
            "zerolinecolor": "white"
           },
           "yaxis": {
            "backgroundcolor": "#E5ECF6",
            "gridcolor": "white",
            "gridwidth": 2,
            "linecolor": "white",
            "showbackground": true,
            "ticks": "",
            "zerolinecolor": "white"
           },
           "zaxis": {
            "backgroundcolor": "#E5ECF6",
            "gridcolor": "white",
            "gridwidth": 2,
            "linecolor": "white",
            "showbackground": true,
            "ticks": "",
            "zerolinecolor": "white"
           }
          },
          "shapedefaults": {
           "line": {
            "color": "#2a3f5f"
           }
          },
          "ternary": {
           "aaxis": {
            "gridcolor": "white",
            "linecolor": "white",
            "ticks": ""
           },
           "baxis": {
            "gridcolor": "white",
            "linecolor": "white",
            "ticks": ""
           },
           "bgcolor": "#E5ECF6",
           "caxis": {
            "gridcolor": "white",
            "linecolor": "white",
            "ticks": ""
           }
          },
          "title": {
           "x": 0.05
          },
          "xaxis": {
           "automargin": true,
           "gridcolor": "white",
           "linecolor": "white",
           "ticks": "",
           "title": {
            "standoff": 15
           },
           "zerolinecolor": "white",
           "zerolinewidth": 2
          },
          "yaxis": {
           "automargin": true,
           "gridcolor": "white",
           "linecolor": "white",
           "ticks": "",
           "title": {
            "standoff": 15
           },
           "zerolinecolor": "white",
           "zerolinewidth": 2
          }
         }
        },
        "title": {
         "text": "Proporção de mulheres em relação a de homens."
        },
        "width": 800,
        "xaxis": {
         "anchor": "y",
         "autorange": true,
         "domain": [
          0,
          1
         ],
         "linecolor": "#C0C0C0",
         "linewidth": 1,
         "range": [
          1998,
          2022
         ],
         "showgrid": false,
         "type": "linear"
        },
        "xaxis2": {
         "anchor": "y2",
         "autorange": true,
         "domain": [
          0,
          1
         ],
         "linecolor": "#C0C0C0",
         "linewidth": 1,
         "range": [
          1998,
          2022
         ],
         "showgrid": false,
         "type": "linear"
        },
        "yaxis": {
         "anchor": "x",
         "domain": [
          0.575,
          1
         ],
         "linecolor": "#C0C0C0",
         "linewidth": 1,
         "range": [
          0,
          1
         ],
         "showgrid": false,
         "tickformat": ",.0%",
         "type": "linear"
        },
        "yaxis2": {
         "anchor": "x2",
         "domain": [
          0,
          0.425
         ],
         "linecolor": "#C0C0C0",
         "linewidth": 1,
         "range": [
          0,
          1
         ],
         "showgrid": false,
         "tickformat": ",.0%",
         "type": "linear"
        }
       }
      },
      "image/png": "[encoded data removed]",
      "text/html": [
       "<div>                            <div id=\"efcb52ca-b9c8-4a3c-a95f-f207145fc456\" class=\"plotly-graph-div\" style=\"height:600px; width:800px;\"></div>            <script type=\"text/javascript\">                require([\"plotly\"], function(Plotly) {                    window.PLOTLYENV=window.PLOTLYENV || {};                                    if (document.getElementById(\"efcb52ca-b9c8-4a3c-a95f-f207145fc456\")) {                    Plotly.newPlot(                        \"efcb52ca-b9c8-4a3c-a95f-f207145fc456\",                        [{\"hovertemplate\":\"Ano: %{x} <br /> %: %{y:.1%}\",\"marker\":{\"color\":\"#708090\",\"line\":{\"color\":\"#121212\",\"width\":1}},\"opacity\":0.7,\"text\":[\"0.1951052150045745\",\"0.2328395061728395\",\"0.2205405405405405\",\"0.3164\",\"0.3290246768507638\",\"0.3434825543120474\"],\"texttemplate\":\"%{y:.1%}\",\"type\":\"bar\",\"x\":[2000,2004,2008,2012,2016,2020],\"xaxis\":\"x\",\"y\":[0.1951052150045745,0.2328395061728395,0.2205405405405405,0.3164,0.3290246768507638,0.3434825543120474],\"yaxis\":\"y\"},{\"hovertemplate\":\"Ano: %{x} <br /> %: %{y:.1%}\",\"marker\":{\"color\":\"#708090\",\"line\":{\"color\":\"#121212\",\"width\":1}},\"opacity\":0.7,\"text\":[\"0.1706398996235884\",\"0.1659451659451659\",\"0.1482014388489208\",\"0.1534591194968553\",\"0.1610486891385767\",\"0.1666666666666666\"],\"texttemplate\":\"%{y:.1%}\",\"type\":\"bar\",\"x\":[2000,2004,2008,2012,2016,2020],\"xaxis\":\"x2\",\"y\":[0.1706398996235884,0.1659451659451659,0.1482014388489208,0.1534591194968553,0.1610486891385767,0.1666666666666666],\"yaxis\":\"y2\"}],                        {\"annotations\":[{\"showarrow\":false,\"text\":\"% de mulheres candidatas\",\"x\":0.01,\"xref\":\"paper\",\"y\":0.99,\"yref\":\"paper\"},{\"showarrow\":false,\"text\":\"% de mulheres eleitas\",\"x\":0.01,\"xref\":\"paper\",\"y\":0.39,\"yref\":\"paper\"},{\"showarrow\":false,\"text\":\"Do ano 2000 para 2020, <br />a % de mulheres candidatas <br /> subiu de 19% para 34%.\",\"width\":200,\"x\":0.99,\"xanchor\":\"right\",\"xref\":\"paper\",\"y\":0.99,\"yref\":\"paper\"},{\"showarrow\":false,\"text\":\"Esse aumento n\\u00e3o foi observado <br />na % de mulheres eleitas. <br />A porcentagem se manteve <br /> constante em 20 anos.\",\"width\":220,\"x\":0.99,\"xanchor\":\"right\",\"xref\":\"paper\",\"y\":0.25,\"yref\":\"paper\"}],\"height\":600,\"plot_bgcolor\":\"#FAFAFA\",\"showlegend\":false,\"template\":{\"data\":{\"bar\":[{\"error_x\":{\"color\":\"#2a3f5f\"},\"error_y\":{\"color\":\"#2a3f5f\"},\"marker\":{\"line\":{\"color\":\"#E5ECF6\",\"width\":0.5},\"pattern\":{\"fillmode\":\"overlay\",\"size\":10,\"solidity\":0.2}},\"type\":\"bar\"}],\"barpolar\":[{\"marker\":{\"line\":{\"color\":\"#E5ECF6\",\"width\":0.5},\"pattern\":{\"fillmode\":\"overlay\",\"size\":10,\"solidity\":0.2}},\"type\":\"barpolar\"}],\"carpet\":[{\"aaxis\":{\"endlinecolor\":\"#2a3f5f\",\"gridcolor\":\"white\",\"linecolor\":\"white\",\"minorgridcolor\":\"white\",\"startlinecolor\":\"#2a3f5f\"},\"baxis\":{\"endlinecolor\":\"#2a3f5f\",\"gridcolor\":\"white\",\"linecolor\":\"white\",\"minorgridcolor\":\"white\",\"startlinecolor\":\"#2a3f5f\"},\"type\":\"carpet\"}],\"choropleth\":[{\"colorbar\":{\"outlinewidth\":0,\"ticks\":\"\"},\"type\":\"choropleth\"}],\"contour\":[{\"colorbar\":{\"outlinewidth\":0,\"ticks\":\"\"},\"colorscale\":[[0.0,\"#0d0887\"],[0.1111111111111111,\"#46039f\"],[0.2222222222222222,\"#7201a8\"],[0.3333333333333333,\"#9c179e\"],[0.4444444444444444,\"#bd3786\"],[0.5555555555555556,\"#d8576b\"],[0.6666666666666666,\"#ed7953\"],[0.7777777777777778,\"#fb9f3a\"],[0.8888888888888888,\"#fdca26\"],[1.0,\"#f0f921\"]],\"type\":\"contour\"}],\"contourcarpet\":[{\"colorbar\":{\"outlinewidth\":0,\"ticks\":\"\"},\"type\":\"contourcarpet\"}],\"heatmap\":[{\"colorbar\":{\"outlinewidth\":0,\"ticks\":\"\"},\"colorscale\":[[0.0,\"#0d0887\"],[0.1111111111111111,\"#46039f\"],[0.2222222222222222,\"#7201a8\"],[0.3333333333333333,\"#9c179e\"],[0.4444444444444444,\"#bd3786\"],[0.5555555555555556,\"#d8576b\"],[0.6666666666666666,\"#ed7953\"],[0.7777777777777778,\"#fb9f3a\"],[0.8888888888888888,\"#fdca26\"],[1.0,\"#f0f921\"]],\"type\":\"heatmap\"}],\"heatmapgl\":[{\"colorbar\":{\"outlinewidth\":0,\"ticks\":\"\"},\"colorscale\":[[0.0,\"#0d0887\"],[0.1111111111111111,\"#46039f\"],[0.2222222222222222,\"#7201a8\"],[0.3333333333333333,\"#9c179e\"],[0.4444444444444444,\"#bd3786\"],[0.5555555555555556,\"#d8576b\"],[0.6666666666666666,\"#ed7953\"],[0.7777777777777778,\"#fb9f3a\"],[0.8888888888888888,\"#fdca26\"],[1.0,\"#f0f921\"]],\"type\":\"heatmapgl\"}],\"histogram\":[{\"marker\":{\"pattern\":{\"fillmode\":\"overlay\",\"size\":10,\"solidity\":0.2}},\"type\":\"histogram\"}],\"histogram2d\":[{\"colorbar\":{\"outlinewidth\":0,\"ticks\":\"\"},\"colorscale\":[[0.0,\"#0d0887\"],[0.1111111111111111,\"#46039f\"],[0.2222222222222222,\"#7201a8\"],[0.3333333333333333,\"#9c179e\"],[0.4444444444444444,\"#bd3786\"],[0.5555555555555556,\"#d8576b\"],[0.6666666666666666,\"#ed7953\"],[0.7777777777777778,\"#fb9f3a\"],[0.8888888888888888,\"#fdca26\"],[1.0,\"#f0f921\"]],\"type\":\"histogram2d\"}],\"histogram2dcontour\":[{\"colorbar\":{\"outlinewidth\":0,\"ticks\":\"\"},\"colorscale\":[[0.0,\"#0d0887\"],[0.1111111111111111,\"#46039f\"],[0.2222222222222222,\"#7201a8\"],[0.3333333333333333,\"#9c179e\"],[0.4444444444444444,\"#bd3786\"],[0.5555555555555556,\"#d8576b\"],[0.6666666666666666,\"#ed7953\"],[0.7777777777777778,\"#fb9f3a\"],[0.8888888888888888,\"#fdca26\"],[1.0,\"#f0f921\"]],\"type\":\"histogram2dcontour\"}],\"mesh3d\":[{\"colorbar\":{\"outlinewidth\":0,\"ticks\":\"\"},\"type\":\"mesh3d\"}],\"parcoords\":[{\"line\":{\"colorbar\":{\"outlinewidth\":0,\"ticks\":\"\"}},\"type\":\"parcoords\"}],\"pie\":[{\"automargin\":true,\"type\":\"pie\"}],\"scatter\":[{\"marker\":{\"colorbar\":{\"outlinewidth\":0,\"ticks\":\"\"}},\"type\":\"scatter\"}],\"scatter3d\":[{\"line\":{\"colorbar\":{\"outlinewidth\":0,\"ticks\":\"\"}},\"marker\":{\"colorbar\":{\"outlinewidth\":0,\"ticks\":\"\"}},\"type\":\"scatter3d\"}],\"scattercarpet\":[{\"marker\":{\"colorbar\":{\"outlinewidth\":0,\"ticks\":\"\"}},\"type\":\"scattercarpet\"}],\"scattergeo\":[{\"marker\":{\"colorbar\":{\"outlinewidth\":0,\"ticks\":\"\"}},\"type\":\"scattergeo\"}],\"scattergl\":[{\"marker\":{\"colorbar\":{\"outlinewidth\":0,\"ticks\":\"\"}},\"type\":\"scattergl\"}],\"scattermapbox\":[{\"marker\":{\"colorbar\":{\"outlinewidth\":0,\"ticks\":\"\"}},\"type\":\"scattermapbox\"}],\"scatterpolar\":[{\"marker\":{\"colorbar\":{\"outlinewidth\":0,\"ticks\":\"\"}},\"type\":\"scatterpolar\"}],\"scatterpolargl\":[{\"marker\":{\"colorbar\":{\"outlinewidth\":0,\"ticks\":\"\"}},\"type\":\"scatterpolargl\"}],\"scatterternary\":[{\"marker\":{\"colorbar\":{\"outlinewidth\":0,\"ticks\":\"\"}},\"type\":\"scatterternary\"}],\"surface\":[{\"colorbar\":{\"outlinewidth\":0,\"ticks\":\"\"},\"colorscale\":[[0.0,\"#0d0887\"],[0.1111111111111111,\"#46039f\"],[0.2222222222222222,\"#7201a8\"],[0.3333333333333333,\"#9c179e\"],[0.4444444444444444,\"#bd3786\"],[0.5555555555555556,\"#d8576b\"],[0.6666666666666666,\"#ed7953\"],[0.7777777777777778,\"#fb9f3a\"],[0.8888888888888888,\"#fdca26\"],[1.0,\"#f0f921\"]],\"type\":\"surface\"}],\"table\":[{\"cells\":{\"fill\":{\"color\":\"#EBF0F8\"},\"line\":{\"color\":\"white\"}},\"header\":{\"fill\":{\"color\":\"#C8D4E3\"},\"line\":{\"color\":\"white\"}},\"type\":\"table\"}]},\"layout\":{\"annotationdefaults\":{\"arrowcolor\":\"#2a3f5f\",\"arrowhead\":0,\"arrowwidth\":1},\"autotypenumbers\":\"strict\",\"coloraxis\":{\"colorbar\":{\"outlinewidth\":0,\"ticks\":\"\"}},\"colorscale\":{\"diverging\":[[0,\"#8e0152\"],[0.1,\"#c51b7d\"],[0.2,\"#de77ae\"],[0.3,\"#f1b6da\"],[0.4,\"#fde0ef\"],[0.5,\"#f7f7f7\"],[0.6,\"#e6f5d0\"],[0.7,\"#b8e186\"],[0.8,\"#7fbc41\"],[0.9,\"#4d9221\"],[1,\"#276419\"]],\"sequential\":[[0.0,\"#0d0887\"],[0.1111111111111111,\"#46039f\"],[0.2222222222222222,\"#7201a8\"],[0.3333333333333333,\"#9c179e\"],[0.4444444444444444,\"#bd3786\"],[0.5555555555555556,\"#d8576b\"],[0.6666666666666666,\"#ed7953\"],[0.7777777777777778,\"#fb9f3a\"],[0.8888888888888888,\"#fdca26\"],[1.0,\"#f0f921\"]],\"sequentialminus\":[[0.0,\"#0d0887\"],[0.1111111111111111,\"#46039f\"],[0.2222222222222222,\"#7201a8\"],[0.3333333333333333,\"#9c179e\"],[0.4444444444444444,\"#bd3786\"],[0.5555555555555556,\"#d8576b\"],[0.6666666666666666,\"#ed7953\"],[0.7777777777777778,\"#fb9f3a\"],[0.8888888888888888,\"#fdca26\"],[1.0,\"#f0f921\"]]},\"colorway\":[\"#636efa\",\"#EF553B\",\"#00cc96\",\"#ab63fa\",\"#FFA15A\",\"#19d3f3\",\"#FF6692\",\"#B6E880\",\"#FF97FF\",\"#FECB52\"],\"font\":{\"color\":\"#2a3f5f\"},\"geo\":{\"bgcolor\":\"white\",\"lakecolor\":\"white\",\"landcolor\":\"#E5ECF6\",\"showlakes\":true,\"showland\":true,\"subunitcolor\":\"white\"},\"hoverlabel\":{\"align\":\"left\"},\"hovermode\":\"closest\",\"mapbox\":{\"style\":\"light\"},\"paper_bgcolor\":\"white\",\"plot_bgcolor\":\"#E5ECF6\",\"polar\":{\"angularaxis\":{\"gridcolor\":\"white\",\"linecolor\":\"white\",\"ticks\":\"\"},\"bgcolor\":\"#E5ECF6\",\"radialaxis\":{\"gridcolor\":\"white\",\"linecolor\":\"white\",\"ticks\":\"\"}},\"scene\":{\"xaxis\":{\"backgroundcolor\":\"#E5ECF6\",\"gridcolor\":\"white\",\"gridwidth\":2,\"linecolor\":\"white\",\"showbackground\":true,\"ticks\":\"\",\"zerolinecolor\":\"white\"},\"yaxis\":{\"backgroundcolor\":\"#E5ECF6\",\"gridcolor\":\"white\",\"gridwidth\":2,\"linecolor\":\"white\",\"showbackground\":true,\"ticks\":\"\",\"zerolinecolor\":\"white\"},\"zaxis\":{\"backgroundcolor\":\"#E5ECF6\",\"gridcolor\":\"white\",\"gridwidth\":2,\"linecolor\":\"white\",\"showbackground\":true,\"ticks\":\"\",\"zerolinecolor\":\"white\"}},\"shapedefaults\":{\"line\":{\"color\":\"#2a3f5f\"}},\"ternary\":{\"aaxis\":{\"gridcolor\":\"white\",\"linecolor\":\"white\",\"ticks\":\"\"},\"baxis\":{\"gridcolor\":\"white\",\"linecolor\":\"white\",\"ticks\":\"\"},\"bgcolor\":\"#E5ECF6\",\"caxis\":{\"gridcolor\":\"white\",\"linecolor\":\"white\",\"ticks\":\"\"}},\"title\":{\"x\":0.05},\"xaxis\":{\"automargin\":true,\"gridcolor\":\"white\",\"linecolor\":\"white\",\"ticks\":\"\",\"title\":{\"standoff\":15},\"zerolinecolor\":\"white\",\"zerolinewidth\":2},\"yaxis\":{\"automargin\":true,\"gridcolor\":\"white\",\"linecolor\":\"white\",\"ticks\":\"\",\"title\":{\"standoff\":15},\"zerolinecolor\":\"white\",\"zerolinewidth\":2}}},\"title\":{\"text\":\"Propor\\u00e7\\u00e3o de mulheres em rela\\u00e7\\u00e3o a de homens.\"},\"width\":800,\"xaxis\":{\"anchor\":\"y\",\"domain\":[0.0,1.0],\"linecolor\":\"#C0C0C0\",\"linewidth\":1,\"showgrid\":false},\"xaxis2\":{\"anchor\":\"y2\",\"domain\":[0.0,1.0],\"linecolor\":\"#C0C0C0\",\"linewidth\":1,\"showgrid\":false},\"yaxis\":{\"anchor\":\"x\",\"domain\":[0.575,1.0],\"linecolor\":\"#C0C0C0\",\"linewidth\":1,\"range\":[0,1],\"showgrid\":false,\"tickformat\":\",.0%\"},\"yaxis2\":{\"anchor\":\"x2\",\"domain\":[0.0,0.425],\"linecolor\":\"#C0C0C0\",\"linewidth\":1,\"range\":[0,1],\"showgrid\":false,\"tickformat\":\",.0%\"}},                        {\"responsive\": true}                    ).then(function(){\n",
       "                            \n",
       "var gd = document.getElementById('efcb52ca-b9c8-4a3c-a95f-f207145fc456');\n",
       "var x = new MutationObserver(function (mutations, observer) {{\n",
       "        var display = window.getComputedStyle(gd).display;\n",
       "        if (!display || display === 'none') {{\n",
       "            console.log([gd, 'removed!']);\n",
       "            Plotly.purge(gd);\n",
       "            observer.disconnect();\n",
       "        }}\n",
       "}});\n",
       "\n",
       "// Listen for the removal of the full notebook cells\n",
       "var notebookContainer = gd.closest('#notebook-container');\n",
       "if (notebookContainer) {{\n",
       "    x.observe(notebookContainer, {childList: true});\n",
       "}}\n",
       "\n",
       "// Listen for the clearing of the current output cell\n",
       "var outputEl = gd.closest('.output');\n",
       "if (outputEl) {{\n",
       "    x.observe(outputEl, {childList: true});\n",
       "}}\n",
       "\n",
       "                        })                };                });            </script>        </div>"
      ]
     },
     "metadata": {},
     "output_type": "display_data"
    }
   ],
   "source": [
    "# Filtrando os dados do gênero feminino\n",
    "data_selected1 = data1.query(\"genero == 'feminino'\") \n",
    "data_selected2 = data2.query(\"genero == 'feminino'\")\n",
    "\n",
    "# Construindo a visualização\n",
    "\n",
    "fig = go.Figure()\n",
    "\n",
    "fig = make_subplots(\n",
    "    rows=2, cols=1,\n",
    "    row_heights=[0.5,0.5],\n",
    ")\n",
    "\n",
    "\n",
    "fig.add_trace(go.Bar(\n",
    "            x=data_selected1.ano, \n",
    "            y=data_selected1.porcentagem, \n",
    "            text=data_selected1.porcentagem,\n",
    "            texttemplate='%{y:.1%}',\n",
    "            hovertemplate='Ano: %{x} <br /> %: %{y:.1%}',\n",
    "            opacity=0.8,\n",
    "            \n",
    "        ), row=1, col=1)\n",
    "\n",
    "fig.add_trace(go.Bar(\n",
    "            x=data_selected2.ano, \n",
    "            y=data_selected2.porcentagem, \n",
    "            text=data_selected2.porcentagem,\n",
    "            texttemplate='%{y:.1%}',\n",
    "            hovertemplate='Ano: %{x} <br /> %: %{y:.1%}',\n",
    "            opacity=0.8,\n",
    "        ), row=2, col=1)\n",
    "\n",
    "fig.update_layout(title=\"Proporção de mulheres em relação a de homens.\",\n",
    "                  plot_bgcolor=\"#FAFAFA\",\n",
    "                  showlegend=False,\n",
    "                  width=800,\n",
    "                  height=600,\n",
    "                  \n",
    "                  )\n",
    "\n",
    "fig.update_traces(marker_color='#708090', marker_line_color='#121212',\n",
    "                  marker_line_width=1, opacity=0.7)\n",
    "\n",
    "\n",
    "fig.layout.yaxis1.tickformat=',.0%'\n",
    "fig.layout.yaxis1.range=[0,1]\n",
    "fig.layout.yaxis2.tickformat=',.0%'\n",
    "fig.layout.yaxis2.range=[0,1]\n",
    "\n",
    "fig.add_annotation(x=0.01, y=0.99,\n",
    "            text=\"% de mulheres candidatas\",\n",
    "            showarrow=False,\n",
    "            xref='paper',\n",
    "            yref='paper',\n",
    "            )\n",
    "\n",
    "fig.add_annotation(x=0.01, y=0.39,\n",
    "            text=\"% de mulheres eleitas\",\n",
    "            showarrow=False,\n",
    "            xref='paper',\n",
    "            yref='paper',\n",
    "            )\n",
    "\n",
    "fig.add_annotation(x=0.99, y=0.99,\n",
    "            text=\"Do ano 2000 para 2020, <br />a % de mulheres candidatas <br /> subiu de 19% para 34%.\",\n",
    "            showarrow=False,\n",
    "            xref='paper',\n",
    "            yref='paper',\n",
    "            width=200,\n",
    "            xanchor=\"right\"\n",
    "            )\n",
    "\n",
    "fig.add_annotation(x=0.99, y=0.25,\n",
    "            text=\"Esse aumento não foi observado <br />na % de mulheres eleitas. <br />A porcentagem se manteve <br /> constante em 20 anos.\",\n",
    "            showarrow=False,\n",
    "            xref='paper',\n",
    "            yref='paper',\n",
    "            width=220,\n",
    "            xanchor=\"right\"\n",
    "            )\n",
    "\n",
    "fig.update_yaxes( \n",
    "  showgrid=False,\n",
    "  linecolor=\"#C0C0C0\",\n",
    "  linewidth=1\n",
    ")\n",
    "\n",
    "fig.update_xaxes(  \n",
    "  showgrid=False,\n",
    "  linecolor=\"#C0C0C0\",\n",
    "  linewidth=1\n",
    ")\n",
    "\n",
    "fig.show()\n"
   ]
  },
  {
   "cell_type": "markdown",
   "id": "2e605241-c569-4e39-b93d-c1a6c47d682f",
   "metadata": {},
   "source": [
    "## Segunda Análise: Recorte de Raça \n",
    "\n",
    "Uma segunda análise a ser verificada é como esses números de candidaturas e eleições de mulheres estão distribuídas em relação a cor/raça. Com o objetivo é ver a distribução no grupo de mulheres, a % calculada se refere somente a esse grupo. "
   ]
  },
  {
   "cell_type": "code",
   "execution_count": 88,
   "id": "00f2a67a-59e1-4de6-b813-02e623d31e70",
   "metadata": {},
   "outputs": [],
   "source": [
    "data3 = pd.read_csv(\"../output/total_vereadores_por_ano_genero_raca.csv\") # % das pessoas candidatas\n",
    "data4 = pd.read_csv(\"../output/total_vereadores_eleitos_por_ano_genero_raca.csv\") # % das pessoas eleitas"
   ]
  },
  {
   "cell_type": "code",
   "execution_count": 100,
   "id": "e6499599-73bc-40d6-a29d-e3b1bec7777e",
   "metadata": {},
   "outputs": [
    {
     "data": {
      "application/vnd.plotly.v1+json": {
       "config": {
        "plotlyServerURL": "https://plot.ly"
       },
       "data": [
        {
         "hovertemplate": "Ano: %{x} <br /> %: %{y:.1%}",
         "marker": {
          "color": "#708090",
          "line": {
           "color": "#121212",
           "width": 1
          }
         },
         "opacity": 0.7,
         "text": [
          "0.0058167716917111",
          "0.2142510906446922",
          "0.0014541929229277",
          "0.6485700436257877",
          "0.1299079011148812"
         ],
         "texttemplate": "%{y:.1%}",
         "type": "bar",
         "x": [
          "amarela",
          "branca",
          "indigena",
          "parda",
          "preta"
         ],
         "xaxis": "x",
         "y": [
          0.0058167716917111,
          0.2142510906446922,
          0.0014541929229277,
          0.6485700436257877,
          0.1299079011148812
         ],
         "yaxis": "y"
        },
        {
         "hovertemplate": "Ano: %{x} <br /> %: %{y:.1%}",
         "marker": {
          "color": "#708090",
          "line": {
           "color": "#121212",
           "width": 1
          }
         },
         "opacity": 0.7,
         "text": [
          "0.0229007633587786",
          "0.2671755725190839",
          "0.0076335877862595",
          "0.6335877862595419",
          "0.0687022900763358"
         ],
         "texttemplate": "%{y:.1%}",
         "type": "bar",
         "x": [
          "amarela",
          "branca",
          "indigena",
          "parda",
          "preta"
         ],
         "xaxis": "x2",
         "y": [
          0.0229007633587786,
          0.2671755725190839,
          0.0076335877862595,
          0.6335877862595419,
          0.0687022900763358
         ],
         "yaxis": "y2"
        }
       ],
       "layout": {
        "annotations": [
         {
          "showarrow": false,
          "text": "% de mulheres candidatas",
          "x": 0.01,
          "xref": "paper",
          "y": 0.99,
          "yref": "paper"
         },
         {
          "showarrow": false,
          "text": "% de mulheres eleitas",
          "x": 0.01,
          "xref": "paper",
          "y": 0.39,
          "yref": "paper"
         },
         {
          "showarrow": false,
          "text": "A grande maioria das pessoas candidatas e <br />eleitas do gênero feminino se autodeclararam <br />brancas ou pardas.",
          "width": 300,
          "x": 0.99,
          "xanchor": "right",
          "xref": "paper",
          "y": 0.99,
          "yref": "paper"
         },
         {
          "showarrow": false,
          "text": "Um ponto importante é verificar a <br />redução em quase metade na <br />proporção de mulheres pretas eleitas.",
          "width": 250,
          "x": 0.99,
          "xanchor": "right",
          "xref": "paper",
          "y": 0.3,
          "yref": "paper"
         }
        ],
        "height": 600,
        "plot_bgcolor": "#FAFAFA",
        "showlegend": false,
        "template": {
         "data": {
          "bar": [
           {
            "error_x": {
             "color": "#2a3f5f"
            },
            "error_y": {
             "color": "#2a3f5f"
            },
            "marker": {
             "line": {
              "color": "#E5ECF6",
              "width": 0.5
             },
             "pattern": {
              "fillmode": "overlay",
              "size": 10,
              "solidity": 0.2
             }
            },
            "type": "bar"
           }
          ],
          "barpolar": [
           {
            "marker": {
             "line": {
              "color": "#E5ECF6",
              "width": 0.5
             },
             "pattern": {
              "fillmode": "overlay",
              "size": 10,
              "solidity": 0.2
             }
            },
            "type": "barpolar"
           }
          ],
          "carpet": [
           {
            "aaxis": {
             "endlinecolor": "#2a3f5f",
             "gridcolor": "white",
             "linecolor": "white",
             "minorgridcolor": "white",
             "startlinecolor": "#2a3f5f"
            },
            "baxis": {
             "endlinecolor": "#2a3f5f",
             "gridcolor": "white",
             "linecolor": "white",
             "minorgridcolor": "white",
             "startlinecolor": "#2a3f5f"
            },
            "type": "carpet"
           }
          ],
          "choropleth": [
           {
            "colorbar": {
             "outlinewidth": 0,
             "ticks": ""
            },
            "type": "choropleth"
           }
          ],
          "contour": [
           {
            "colorbar": {
             "outlinewidth": 0,
             "ticks": ""
            },
            "colorscale": [
             [
              0,
              "#0d0887"
             ],
             [
              0.1111111111111111,
              "#46039f"
             ],
             [
              0.2222222222222222,
              "#7201a8"
             ],
             [
              0.3333333333333333,
              "#9c179e"
             ],
             [
              0.4444444444444444,
              "#bd3786"
             ],
             [
              0.5555555555555556,
              "#d8576b"
             ],
             [
              0.6666666666666666,
              "#ed7953"
             ],
             [
              0.7777777777777778,
              "#fb9f3a"
             ],
             [
              0.8888888888888888,
              "#fdca26"
             ],
             [
              1,
              "#f0f921"
             ]
            ],
            "type": "contour"
           }
          ],
          "contourcarpet": [
           {
            "colorbar": {
             "outlinewidth": 0,
             "ticks": ""
            },
            "type": "contourcarpet"
           }
          ],
          "heatmap": [
           {
            "colorbar": {
             "outlinewidth": 0,
             "ticks": ""
            },
            "colorscale": [
             [
              0,
              "#0d0887"
             ],
             [
              0.1111111111111111,
              "#46039f"
             ],
             [
              0.2222222222222222,
              "#7201a8"
             ],
             [
              0.3333333333333333,
              "#9c179e"
             ],
             [
              0.4444444444444444,
              "#bd3786"
             ],
             [
              0.5555555555555556,
              "#d8576b"
             ],
             [
              0.6666666666666666,
              "#ed7953"
             ],
             [
              0.7777777777777778,
              "#fb9f3a"
             ],
             [
              0.8888888888888888,
              "#fdca26"
             ],
             [
              1,
              "#f0f921"
             ]
            ],
            "type": "heatmap"
           }
          ],
          "heatmapgl": [
           {
            "colorbar": {
             "outlinewidth": 0,
             "ticks": ""
            },
            "colorscale": [
             [
              0,
              "#0d0887"
             ],
             [
              0.1111111111111111,
              "#46039f"
             ],
             [
              0.2222222222222222,
              "#7201a8"
             ],
             [
              0.3333333333333333,
              "#9c179e"
             ],
             [
              0.4444444444444444,
              "#bd3786"
             ],
             [
              0.5555555555555556,
              "#d8576b"
             ],
             [
              0.6666666666666666,
              "#ed7953"
             ],
             [
              0.7777777777777778,
              "#fb9f3a"
             ],
             [
              0.8888888888888888,
              "#fdca26"
             ],
             [
              1,
              "#f0f921"
             ]
            ],
            "type": "heatmapgl"
           }
          ],
          "histogram": [
           {
            "marker": {
             "pattern": {
              "fillmode": "overlay",
              "size": 10,
              "solidity": 0.2
             }
            },
            "type": "histogram"
           }
          ],
          "histogram2d": [
           {
            "colorbar": {
             "outlinewidth": 0,
             "ticks": ""
            },
            "colorscale": [
             [
              0,
              "#0d0887"
             ],
             [
              0.1111111111111111,
              "#46039f"
             ],
             [
              0.2222222222222222,
              "#7201a8"
             ],
             [
              0.3333333333333333,
              "#9c179e"
             ],
             [
              0.4444444444444444,
              "#bd3786"
             ],
             [
              0.5555555555555556,
              "#d8576b"
             ],
             [
              0.6666666666666666,
              "#ed7953"
             ],
             [
              0.7777777777777778,
              "#fb9f3a"
             ],
             [
              0.8888888888888888,
              "#fdca26"
             ],
             [
              1,
              "#f0f921"
             ]
            ],
            "type": "histogram2d"
           }
          ],
          "histogram2dcontour": [
           {
            "colorbar": {
             "outlinewidth": 0,
             "ticks": ""
            },
            "colorscale": [
             [
              0,
              "#0d0887"
             ],
             [
              0.1111111111111111,
              "#46039f"
             ],
             [
              0.2222222222222222,
              "#7201a8"
             ],
             [
              0.3333333333333333,
              "#9c179e"
             ],
             [
              0.4444444444444444,
              "#bd3786"
             ],
             [
              0.5555555555555556,
              "#d8576b"
             ],
             [
              0.6666666666666666,
              "#ed7953"
             ],
             [
              0.7777777777777778,
              "#fb9f3a"
             ],
             [
              0.8888888888888888,
              "#fdca26"
             ],
             [
              1,
              "#f0f921"
             ]
            ],
            "type": "histogram2dcontour"
           }
          ],
          "mesh3d": [
           {
            "colorbar": {
             "outlinewidth": 0,
             "ticks": ""
            },
            "type": "mesh3d"
           }
          ],
          "parcoords": [
           {
            "line": {
             "colorbar": {
              "outlinewidth": 0,
              "ticks": ""
             }
            },
            "type": "parcoords"
           }
          ],
          "pie": [
           {
            "automargin": true,
            "type": "pie"
           }
          ],
          "scatter": [
           {
            "marker": {
             "colorbar": {
              "outlinewidth": 0,
              "ticks": ""
             }
            },
            "type": "scatter"
           }
          ],
          "scatter3d": [
           {
            "line": {
             "colorbar": {
              "outlinewidth": 0,
              "ticks": ""
             }
            },
            "marker": {
             "colorbar": {
              "outlinewidth": 0,
              "ticks": ""
             }
            },
            "type": "scatter3d"
           }
          ],
          "scattercarpet": [
           {
            "marker": {
             "colorbar": {
              "outlinewidth": 0,
              "ticks": ""
             }
            },
            "type": "scattercarpet"
           }
          ],
          "scattergeo": [
           {
            "marker": {
             "colorbar": {
              "outlinewidth": 0,
              "ticks": ""
             }
            },
            "type": "scattergeo"
           }
          ],
          "scattergl": [
           {
            "marker": {
             "colorbar": {
              "outlinewidth": 0,
              "ticks": ""
             }
            },
            "type": "scattergl"
           }
          ],
          "scattermapbox": [
           {
            "marker": {
             "colorbar": {
              "outlinewidth": 0,
              "ticks": ""
             }
            },
            "type": "scattermapbox"
           }
          ],
          "scatterpolar": [
           {
            "marker": {
             "colorbar": {
              "outlinewidth": 0,
              "ticks": ""
             }
            },
            "type": "scatterpolar"
           }
          ],
          "scatterpolargl": [
           {
            "marker": {
             "colorbar": {
              "outlinewidth": 0,
              "ticks": ""
             }
            },
            "type": "scatterpolargl"
           }
          ],
          "scatterternary": [
           {
            "marker": {
             "colorbar": {
              "outlinewidth": 0,
              "ticks": ""
             }
            },
            "type": "scatterternary"
           }
          ],
          "surface": [
           {
            "colorbar": {
             "outlinewidth": 0,
             "ticks": ""
            },
            "colorscale": [
             [
              0,
              "#0d0887"
             ],
             [
              0.1111111111111111,
              "#46039f"
             ],
             [
              0.2222222222222222,
              "#7201a8"
             ],
             [
              0.3333333333333333,
              "#9c179e"
             ],
             [
              0.4444444444444444,
              "#bd3786"
             ],
             [
              0.5555555555555556,
              "#d8576b"
             ],
             [
              0.6666666666666666,
              "#ed7953"
             ],
             [
              0.7777777777777778,
              "#fb9f3a"
             ],
             [
              0.8888888888888888,
              "#fdca26"
             ],
             [
              1,
              "#f0f921"
             ]
            ],
            "type": "surface"
           }
          ],
          "table": [
           {
            "cells": {
             "fill": {
              "color": "#EBF0F8"
             },
             "line": {
              "color": "white"
             }
            },
            "header": {
             "fill": {
              "color": "#C8D4E3"
             },
             "line": {
              "color": "white"
             }
            },
            "type": "table"
           }
          ]
         },
         "layout": {
          "annotationdefaults": {
           "arrowcolor": "#2a3f5f",
           "arrowhead": 0,
           "arrowwidth": 1
          },
          "autotypenumbers": "strict",
          "coloraxis": {
           "colorbar": {
            "outlinewidth": 0,
            "ticks": ""
           }
          },
          "colorscale": {
           "diverging": [
            [
             0,
             "#8e0152"
            ],
            [
             0.1,
             "#c51b7d"
            ],
            [
             0.2,
             "#de77ae"
            ],
            [
             0.3,
             "#f1b6da"
            ],
            [
             0.4,
             "#fde0ef"
            ],
            [
             0.5,
             "#f7f7f7"
            ],
            [
             0.6,
             "#e6f5d0"
            ],
            [
             0.7,
             "#b8e186"
            ],
            [
             0.8,
             "#7fbc41"
            ],
            [
             0.9,
             "#4d9221"
            ],
            [
             1,
             "#276419"
            ]
           ],
           "sequential": [
            [
             0,
             "#0d0887"
            ],
            [
             0.1111111111111111,
             "#46039f"
            ],
            [
             0.2222222222222222,
             "#7201a8"
            ],
            [
             0.3333333333333333,
             "#9c179e"
            ],
            [
             0.4444444444444444,
             "#bd3786"
            ],
            [
             0.5555555555555556,
             "#d8576b"
            ],
            [
             0.6666666666666666,
             "#ed7953"
            ],
            [
             0.7777777777777778,
             "#fb9f3a"
            ],
            [
             0.8888888888888888,
             "#fdca26"
            ],
            [
             1,
             "#f0f921"
            ]
           ],
           "sequentialminus": [
            [
             0,
             "#0d0887"
            ],
            [
             0.1111111111111111,
             "#46039f"
            ],
            [
             0.2222222222222222,
             "#7201a8"
            ],
            [
             0.3333333333333333,
             "#9c179e"
            ],
            [
             0.4444444444444444,
             "#bd3786"
            ],
            [
             0.5555555555555556,
             "#d8576b"
            ],
            [
             0.6666666666666666,
             "#ed7953"
            ],
            [
             0.7777777777777778,
             "#fb9f3a"
            ],
            [
             0.8888888888888888,
             "#fdca26"
            ],
            [
             1,
             "#f0f921"
            ]
           ]
          },
          "colorway": [
           "#636efa",
           "#EF553B",
           "#00cc96",
           "#ab63fa",
           "#FFA15A",
           "#19d3f3",
           "#FF6692",
           "#B6E880",
           "#FF97FF",
           "#FECB52"
          ],
          "font": {
           "color": "#2a3f5f"
          },
          "geo": {
           "bgcolor": "white",
           "lakecolor": "white",
           "landcolor": "#E5ECF6",
           "showlakes": true,
           "showland": true,
           "subunitcolor": "white"
          },
          "hoverlabel": {
           "align": "left"
          },
          "hovermode": "closest",
          "mapbox": {
           "style": "light"
          },
          "paper_bgcolor": "white",
          "plot_bgcolor": "#E5ECF6",
          "polar": {
           "angularaxis": {
            "gridcolor": "white",
            "linecolor": "white",
            "ticks": ""
           },
           "bgcolor": "#E5ECF6",
           "radialaxis": {
            "gridcolor": "white",
            "linecolor": "white",
            "ticks": ""
           }
          },
          "scene": {
           "xaxis": {
            "backgroundcolor": "#E5ECF6",
            "gridcolor": "white",
            "gridwidth": 2,
            "linecolor": "white",
            "showbackground": true,
            "ticks": "",
            "zerolinecolor": "white"
           },
           "yaxis": {
            "backgroundcolor": "#E5ECF6",
            "gridcolor": "white",
            "gridwidth": 2,
            "linecolor": "white",
            "showbackground": true,
            "ticks": "",
            "zerolinecolor": "white"
           },
           "zaxis": {
            "backgroundcolor": "#E5ECF6",
            "gridcolor": "white",
            "gridwidth": 2,
            "linecolor": "white",
            "showbackground": true,
            "ticks": "",
            "zerolinecolor": "white"
           }
          },
          "shapedefaults": {
           "line": {
            "color": "#2a3f5f"
           }
          },
          "ternary": {
           "aaxis": {
            "gridcolor": "white",
            "linecolor": "white",
            "ticks": ""
           },
           "baxis": {
            "gridcolor": "white",
            "linecolor": "white",
            "ticks": ""
           },
           "bgcolor": "#E5ECF6",
           "caxis": {
            "gridcolor": "white",
            "linecolor": "white",
            "ticks": ""
           }
          },
          "title": {
           "x": 0.05
          },
          "xaxis": {
           "automargin": true,
           "gridcolor": "white",
           "linecolor": "white",
           "ticks": "",
           "title": {
            "standoff": 15
           },
           "zerolinecolor": "white",
           "zerolinewidth": 2
          },
          "yaxis": {
           "automargin": true,
           "gridcolor": "white",
           "linecolor": "white",
           "ticks": "",
           "title": {
            "standoff": 15
           },
           "zerolinecolor": "white",
           "zerolinewidth": 2
          }
         }
        },
        "title": {
         "text": "Proporção de mulheres em relação a cor/raça"
        },
        "width": 800,
        "xaxis": {
         "anchor": "y",
         "autorange": true,
         "domain": [
          0,
          1
         ],
         "linecolor": "#C0C0C0",
         "linewidth": 1,
         "range": [
          -0.5,
          4.5
         ],
         "showgrid": false,
         "type": "category"
        },
        "xaxis2": {
         "anchor": "y2",
         "autorange": true,
         "domain": [
          0,
          1
         ],
         "linecolor": "#C0C0C0",
         "linewidth": 1,
         "range": [
          -0.5,
          4.5
         ],
         "showgrid": false,
         "type": "category"
        },
        "yaxis": {
         "anchor": "x",
         "domain": [
          0.575,
          1
         ],
         "linecolor": "#C0C0C0",
         "linewidth": 1,
         "range": [
          0,
          1
         ],
         "showgrid": false,
         "tickformat": ",.0%",
         "type": "linear"
        },
        "yaxis2": {
         "anchor": "x2",
         "domain": [
          0,
          0.425
         ],
         "linecolor": "#C0C0C0",
         "linewidth": 1,
         "range": [
          0,
          1
         ],
         "showgrid": false,
         "tickformat": ",.0%",
         "type": "linear"
        }
       }
      },
      "image/png": "[encoded data removed]",
      "text/html": [
       "<div>                            <div id=\"eba92a4e-7404-4084-8f82-0ac4bb803531\" class=\"plotly-graph-div\" style=\"height:600px; width:800px;\"></div>            <script type=\"text/javascript\">                require([\"plotly\"], function(Plotly) {                    window.PLOTLYENV=window.PLOTLYENV || {};                                    if (document.getElementById(\"eba92a4e-7404-4084-8f82-0ac4bb803531\")) {                    Plotly.newPlot(                        \"eba92a4e-7404-4084-8f82-0ac4bb803531\",                        [{\"hovertemplate\":\"Ano: %{x} <br /> %: %{y:.1%}\",\"marker\":{\"color\":\"#708090\",\"line\":{\"color\":\"#121212\",\"width\":1}},\"opacity\":0.7,\"text\":[\"0.0058167716917111\",\"0.2142510906446922\",\"0.0014541929229277\",\"0.6485700436257877\",\"0.1299079011148812\"],\"texttemplate\":\"%{y:.1%}\",\"type\":\"bar\",\"x\":[\"amarela\",\"branca\",\"indigena\",\"parda\",\"preta\"],\"xaxis\":\"x\",\"y\":[0.0058167716917111,0.2142510906446922,0.0014541929229277,0.6485700436257877,0.1299079011148812],\"yaxis\":\"y\"},{\"hovertemplate\":\"Ano: %{x} <br /> %: %{y:.1%}\",\"marker\":{\"color\":\"#708090\",\"line\":{\"color\":\"#121212\",\"width\":1}},\"opacity\":0.7,\"text\":[\"0.0229007633587786\",\"0.2671755725190839\",\"0.0076335877862595\",\"0.6335877862595419\",\"0.0687022900763358\"],\"texttemplate\":\"%{y:.1%}\",\"type\":\"bar\",\"x\":[\"amarela\",\"branca\",\"indigena\",\"parda\",\"preta\"],\"xaxis\":\"x2\",\"y\":[0.0229007633587786,0.2671755725190839,0.0076335877862595,0.6335877862595419,0.0687022900763358],\"yaxis\":\"y2\"}],                        {\"annotations\":[{\"showarrow\":false,\"text\":\"% de mulheres candidatas\",\"x\":0.01,\"xref\":\"paper\",\"y\":0.99,\"yref\":\"paper\"},{\"showarrow\":false,\"text\":\"% de mulheres eleitas\",\"x\":0.01,\"xref\":\"paper\",\"y\":0.39,\"yref\":\"paper\"},{\"showarrow\":false,\"text\":\"A grande maioria das pessoas candidatas e <br />eleitas do g\\u00eanero feminino se autodeclararam <br />brancas ou pardas.\",\"width\":300,\"x\":0.99,\"xanchor\":\"right\",\"xref\":\"paper\",\"y\":0.99,\"yref\":\"paper\"},{\"showarrow\":false,\"text\":\"Um ponto importante \\u00e9 verificar a <br />redu\\u00e7\\u00e3o em quase metade na <br />propor\\u00e7\\u00e3o de mulheres pretas eleitas.\",\"width\":250,\"x\":0.99,\"xanchor\":\"right\",\"xref\":\"paper\",\"y\":0.3,\"yref\":\"paper\"}],\"height\":600,\"plot_bgcolor\":\"#FAFAFA\",\"showlegend\":false,\"template\":{\"data\":{\"bar\":[{\"error_x\":{\"color\":\"#2a3f5f\"},\"error_y\":{\"color\":\"#2a3f5f\"},\"marker\":{\"line\":{\"color\":\"#E5ECF6\",\"width\":0.5},\"pattern\":{\"fillmode\":\"overlay\",\"size\":10,\"solidity\":0.2}},\"type\":\"bar\"}],\"barpolar\":[{\"marker\":{\"line\":{\"color\":\"#E5ECF6\",\"width\":0.5},\"pattern\":{\"fillmode\":\"overlay\",\"size\":10,\"solidity\":0.2}},\"type\":\"barpolar\"}],\"carpet\":[{\"aaxis\":{\"endlinecolor\":\"#2a3f5f\",\"gridcolor\":\"white\",\"linecolor\":\"white\",\"minorgridcolor\":\"white\",\"startlinecolor\":\"#2a3f5f\"},\"baxis\":{\"endlinecolor\":\"#2a3f5f\",\"gridcolor\":\"white\",\"linecolor\":\"white\",\"minorgridcolor\":\"white\",\"startlinecolor\":\"#2a3f5f\"},\"type\":\"carpet\"}],\"choropleth\":[{\"colorbar\":{\"outlinewidth\":0,\"ticks\":\"\"},\"type\":\"choropleth\"}],\"contour\":[{\"colorbar\":{\"outlinewidth\":0,\"ticks\":\"\"},\"colorscale\":[[0.0,\"#0d0887\"],[0.1111111111111111,\"#46039f\"],[0.2222222222222222,\"#7201a8\"],[0.3333333333333333,\"#9c179e\"],[0.4444444444444444,\"#bd3786\"],[0.5555555555555556,\"#d8576b\"],[0.6666666666666666,\"#ed7953\"],[0.7777777777777778,\"#fb9f3a\"],[0.8888888888888888,\"#fdca26\"],[1.0,\"#f0f921\"]],\"type\":\"contour\"}],\"contourcarpet\":[{\"colorbar\":{\"outlinewidth\":0,\"ticks\":\"\"},\"type\":\"contourcarpet\"}],\"heatmap\":[{\"colorbar\":{\"outlinewidth\":0,\"ticks\":\"\"},\"colorscale\":[[0.0,\"#0d0887\"],[0.1111111111111111,\"#46039f\"],[0.2222222222222222,\"#7201a8\"],[0.3333333333333333,\"#9c179e\"],[0.4444444444444444,\"#bd3786\"],[0.5555555555555556,\"#d8576b\"],[0.6666666666666666,\"#ed7953\"],[0.7777777777777778,\"#fb9f3a\"],[0.8888888888888888,\"#fdca26\"],[1.0,\"#f0f921\"]],\"type\":\"heatmap\"}],\"heatmapgl\":[{\"colorbar\":{\"outlinewidth\":0,\"ticks\":\"\"},\"colorscale\":[[0.0,\"#0d0887\"],[0.1111111111111111,\"#46039f\"],[0.2222222222222222,\"#7201a8\"],[0.3333333333333333,\"#9c179e\"],[0.4444444444444444,\"#bd3786\"],[0.5555555555555556,\"#d8576b\"],[0.6666666666666666,\"#ed7953\"],[0.7777777777777778,\"#fb9f3a\"],[0.8888888888888888,\"#fdca26\"],[1.0,\"#f0f921\"]],\"type\":\"heatmapgl\"}],\"histogram\":[{\"marker\":{\"pattern\":{\"fillmode\":\"overlay\",\"size\":10,\"solidity\":0.2}},\"type\":\"histogram\"}],\"histogram2d\":[{\"colorbar\":{\"outlinewidth\":0,\"ticks\":\"\"},\"colorscale\":[[0.0,\"#0d0887\"],[0.1111111111111111,\"#46039f\"],[0.2222222222222222,\"#7201a8\"],[0.3333333333333333,\"#9c179e\"],[0.4444444444444444,\"#bd3786\"],[0.5555555555555556,\"#d8576b\"],[0.6666666666666666,\"#ed7953\"],[0.7777777777777778,\"#fb9f3a\"],[0.8888888888888888,\"#fdca26\"],[1.0,\"#f0f921\"]],\"type\":\"histogram2d\"}],\"histogram2dcontour\":[{\"colorbar\":{\"outlinewidth\":0,\"ticks\":\"\"},\"colorscale\":[[0.0,\"#0d0887\"],[0.1111111111111111,\"#46039f\"],[0.2222222222222222,\"#7201a8\"],[0.3333333333333333,\"#9c179e\"],[0.4444444444444444,\"#bd3786\"],[0.5555555555555556,\"#d8576b\"],[0.6666666666666666,\"#ed7953\"],[0.7777777777777778,\"#fb9f3a\"],[0.8888888888888888,\"#fdca26\"],[1.0,\"#f0f921\"]],\"type\":\"histogram2dcontour\"}],\"mesh3d\":[{\"colorbar\":{\"outlinewidth\":0,\"ticks\":\"\"},\"type\":\"mesh3d\"}],\"parcoords\":[{\"line\":{\"colorbar\":{\"outlinewidth\":0,\"ticks\":\"\"}},\"type\":\"parcoords\"}],\"pie\":[{\"automargin\":true,\"type\":\"pie\"}],\"scatter\":[{\"marker\":{\"colorbar\":{\"outlinewidth\":0,\"ticks\":\"\"}},\"type\":\"scatter\"}],\"scatter3d\":[{\"line\":{\"colorbar\":{\"outlinewidth\":0,\"ticks\":\"\"}},\"marker\":{\"colorbar\":{\"outlinewidth\":0,\"ticks\":\"\"}},\"type\":\"scatter3d\"}],\"scattercarpet\":[{\"marker\":{\"colorbar\":{\"outlinewidth\":0,\"ticks\":\"\"}},\"type\":\"scattercarpet\"}],\"scattergeo\":[{\"marker\":{\"colorbar\":{\"outlinewidth\":0,\"ticks\":\"\"}},\"type\":\"scattergeo\"}],\"scattergl\":[{\"marker\":{\"colorbar\":{\"outlinewidth\":0,\"ticks\":\"\"}},\"type\":\"scattergl\"}],\"scattermapbox\":[{\"marker\":{\"colorbar\":{\"outlinewidth\":0,\"ticks\":\"\"}},\"type\":\"scattermapbox\"}],\"scatterpolar\":[{\"marker\":{\"colorbar\":{\"outlinewidth\":0,\"ticks\":\"\"}},\"type\":\"scatterpolar\"}],\"scatterpolargl\":[{\"marker\":{\"colorbar\":{\"outlinewidth\":0,\"ticks\":\"\"}},\"type\":\"scatterpolargl\"}],\"scatterternary\":[{\"marker\":{\"colorbar\":{\"outlinewidth\":0,\"ticks\":\"\"}},\"type\":\"scatterternary\"}],\"surface\":[{\"colorbar\":{\"outlinewidth\":0,\"ticks\":\"\"},\"colorscale\":[[0.0,\"#0d0887\"],[0.1111111111111111,\"#46039f\"],[0.2222222222222222,\"#7201a8\"],[0.3333333333333333,\"#9c179e\"],[0.4444444444444444,\"#bd3786\"],[0.5555555555555556,\"#d8576b\"],[0.6666666666666666,\"#ed7953\"],[0.7777777777777778,\"#fb9f3a\"],[0.8888888888888888,\"#fdca26\"],[1.0,\"#f0f921\"]],\"type\":\"surface\"}],\"table\":[{\"cells\":{\"fill\":{\"color\":\"#EBF0F8\"},\"line\":{\"color\":\"white\"}},\"header\":{\"fill\":{\"color\":\"#C8D4E3\"},\"line\":{\"color\":\"white\"}},\"type\":\"table\"}]},\"layout\":{\"annotationdefaults\":{\"arrowcolor\":\"#2a3f5f\",\"arrowhead\":0,\"arrowwidth\":1},\"autotypenumbers\":\"strict\",\"coloraxis\":{\"colorbar\":{\"outlinewidth\":0,\"ticks\":\"\"}},\"colorscale\":{\"diverging\":[[0,\"#8e0152\"],[0.1,\"#c51b7d\"],[0.2,\"#de77ae\"],[0.3,\"#f1b6da\"],[0.4,\"#fde0ef\"],[0.5,\"#f7f7f7\"],[0.6,\"#e6f5d0\"],[0.7,\"#b8e186\"],[0.8,\"#7fbc41\"],[0.9,\"#4d9221\"],[1,\"#276419\"]],\"sequential\":[[0.0,\"#0d0887\"],[0.1111111111111111,\"#46039f\"],[0.2222222222222222,\"#7201a8\"],[0.3333333333333333,\"#9c179e\"],[0.4444444444444444,\"#bd3786\"],[0.5555555555555556,\"#d8576b\"],[0.6666666666666666,\"#ed7953\"],[0.7777777777777778,\"#fb9f3a\"],[0.8888888888888888,\"#fdca26\"],[1.0,\"#f0f921\"]],\"sequentialminus\":[[0.0,\"#0d0887\"],[0.1111111111111111,\"#46039f\"],[0.2222222222222222,\"#7201a8\"],[0.3333333333333333,\"#9c179e\"],[0.4444444444444444,\"#bd3786\"],[0.5555555555555556,\"#d8576b\"],[0.6666666666666666,\"#ed7953\"],[0.7777777777777778,\"#fb9f3a\"],[0.8888888888888888,\"#fdca26\"],[1.0,\"#f0f921\"]]},\"colorway\":[\"#636efa\",\"#EF553B\",\"#00cc96\",\"#ab63fa\",\"#FFA15A\",\"#19d3f3\",\"#FF6692\",\"#B6E880\",\"#FF97FF\",\"#FECB52\"],\"font\":{\"color\":\"#2a3f5f\"},\"geo\":{\"bgcolor\":\"white\",\"lakecolor\":\"white\",\"landcolor\":\"#E5ECF6\",\"showlakes\":true,\"showland\":true,\"subunitcolor\":\"white\"},\"hoverlabel\":{\"align\":\"left\"},\"hovermode\":\"closest\",\"mapbox\":{\"style\":\"light\"},\"paper_bgcolor\":\"white\",\"plot_bgcolor\":\"#E5ECF6\",\"polar\":{\"angularaxis\":{\"gridcolor\":\"white\",\"linecolor\":\"white\",\"ticks\":\"\"},\"bgcolor\":\"#E5ECF6\",\"radialaxis\":{\"gridcolor\":\"white\",\"linecolor\":\"white\",\"ticks\":\"\"}},\"scene\":{\"xaxis\":{\"backgroundcolor\":\"#E5ECF6\",\"gridcolor\":\"white\",\"gridwidth\":2,\"linecolor\":\"white\",\"showbackground\":true,\"ticks\":\"\",\"zerolinecolor\":\"white\"},\"yaxis\":{\"backgroundcolor\":\"#E5ECF6\",\"gridcolor\":\"white\",\"gridwidth\":2,\"linecolor\":\"white\",\"showbackground\":true,\"ticks\":\"\",\"zerolinecolor\":\"white\"},\"zaxis\":{\"backgroundcolor\":\"#E5ECF6\",\"gridcolor\":\"white\",\"gridwidth\":2,\"linecolor\":\"white\",\"showbackground\":true,\"ticks\":\"\",\"zerolinecolor\":\"white\"}},\"shapedefaults\":{\"line\":{\"color\":\"#2a3f5f\"}},\"ternary\":{\"aaxis\":{\"gridcolor\":\"white\",\"linecolor\":\"white\",\"ticks\":\"\"},\"baxis\":{\"gridcolor\":\"white\",\"linecolor\":\"white\",\"ticks\":\"\"},\"bgcolor\":\"#E5ECF6\",\"caxis\":{\"gridcolor\":\"white\",\"linecolor\":\"white\",\"ticks\":\"\"}},\"title\":{\"x\":0.05},\"xaxis\":{\"automargin\":true,\"gridcolor\":\"white\",\"linecolor\":\"white\",\"ticks\":\"\",\"title\":{\"standoff\":15},\"zerolinecolor\":\"white\",\"zerolinewidth\":2},\"yaxis\":{\"automargin\":true,\"gridcolor\":\"white\",\"linecolor\":\"white\",\"ticks\":\"\",\"title\":{\"standoff\":15},\"zerolinecolor\":\"white\",\"zerolinewidth\":2}}},\"title\":{\"text\":\"Propor\\u00e7\\u00e3o de mulheres em rela\\u00e7\\u00e3o a cor/ra\\u00e7a\"},\"width\":800,\"xaxis\":{\"anchor\":\"y\",\"domain\":[0.0,1.0],\"linecolor\":\"#C0C0C0\",\"linewidth\":1,\"showgrid\":false},\"xaxis2\":{\"anchor\":\"y2\",\"domain\":[0.0,1.0],\"linecolor\":\"#C0C0C0\",\"linewidth\":1,\"showgrid\":false},\"yaxis\":{\"anchor\":\"x\",\"domain\":[0.575,1.0],\"linecolor\":\"#C0C0C0\",\"linewidth\":1,\"range\":[0,1],\"showgrid\":false,\"tickformat\":\",.0%\"},\"yaxis2\":{\"anchor\":\"x2\",\"domain\":[0.0,0.425],\"linecolor\":\"#C0C0C0\",\"linewidth\":1,\"range\":[0,1],\"showgrid\":false,\"tickformat\":\",.0%\"}},                        {\"responsive\": true}                    ).then(function(){\n",
       "                            \n",
       "var gd = document.getElementById('eba92a4e-7404-4084-8f82-0ac4bb803531');\n",
       "var x = new MutationObserver(function (mutations, observer) {{\n",
       "        var display = window.getComputedStyle(gd).display;\n",
       "        if (!display || display === 'none') {{\n",
       "            console.log([gd, 'removed!']);\n",
       "            Plotly.purge(gd);\n",
       "            observer.disconnect();\n",
       "        }}\n",
       "}});\n",
       "\n",
       "// Listen for the removal of the full notebook cells\n",
       "var notebookContainer = gd.closest('#notebook-container');\n",
       "if (notebookContainer) {{\n",
       "    x.observe(notebookContainer, {childList: true});\n",
       "}}\n",
       "\n",
       "// Listen for the clearing of the current output cell\n",
       "var outputEl = gd.closest('.output');\n",
       "if (outputEl) {{\n",
       "    x.observe(outputEl, {childList: true});\n",
       "}}\n",
       "\n",
       "                        })                };                });            </script>        </div>"
      ]
     },
     "metadata": {},
     "output_type": "display_data"
    }
   ],
   "source": [
    "data_selected3 = data3.query(\"ano == 2020\") # Foi filtrado só o ano de 2020\n",
    "data_selected4 = data4.query(\"ano == 2020\") # Foi filtrado só o ano de 2020\n",
    "\n",
    "# Construindo a visualização\n",
    "\n",
    "fig = go.Figure()\n",
    "\n",
    "fig = make_subplots(\n",
    "    rows=2, cols=1,\n",
    "    row_heights=[0.5,0.5],\n",
    ")\n",
    "\n",
    "\n",
    "fig.add_trace(go.Bar(\n",
    "            x=data_selected3.raca, \n",
    "            y=data_selected3.porcentagem, \n",
    "            text=data_selected3.porcentagem,\n",
    "            texttemplate='%{y:.1%}',\n",
    "            hovertemplate='Ano: %{x} <br /> %: %{y:.1%}',\n",
    "            opacity=0.8,\n",
    "            \n",
    "        ), row=1, col=1)\n",
    "\n",
    "fig.add_trace(go.Bar(\n",
    "            x=data_selected4.raca, \n",
    "            y=data_selected4.porcentagem, \n",
    "            text=data_selected4.porcentagem,\n",
    "            texttemplate='%{y:.1%}',\n",
    "            hovertemplate='Ano: %{x} <br /> %: %{y:.1%}',\n",
    "            opacity=0.8,\n",
    "        ), row=2, col=1)\n",
    "\n",
    "fig.update_layout(title=\"Proporção de mulheres em relação a cor/raça\",\n",
    "                  plot_bgcolor=\"#FAFAFA\",\n",
    "                  showlegend=False,\n",
    "                  width=800,\n",
    "                  height=600,\n",
    "                  \n",
    "                  )\n",
    "\n",
    "fig.update_traces(marker_color='#708090', marker_line_color='#121212',\n",
    "                  marker_line_width=1, opacity=0.7)\n",
    "\n",
    "\n",
    "fig.layout.yaxis1.tickformat=',.0%'\n",
    "fig.layout.yaxis1.range=[0,1]\n",
    "fig.layout.yaxis2.tickformat=',.0%'\n",
    "fig.layout.yaxis2.range=[0,1]\n",
    "\n",
    "fig.add_annotation(x=0.01, y=0.99,\n",
    "            text=\"% de mulheres candidatas\",\n",
    "            showarrow=False,\n",
    "            xref='paper',\n",
    "            yref='paper',\n",
    "            )\n",
    "\n",
    "fig.add_annotation(x=0.01, y=0.39,\n",
    "            text=\"% de mulheres eleitas\",\n",
    "            showarrow=False,\n",
    "            xref='paper',\n",
    "            yref='paper',\n",
    "            )\n",
    "\n",
    "fig.add_annotation(x=0.99, y=0.99,\n",
    "            text=\"A grande maioria das pessoas candidatas e <br />eleitas do gênero feminino se autodeclararam <br />brancas ou pardas.\",\n",
    "            showarrow=False,\n",
    "            xref='paper',\n",
    "            yref='paper',\n",
    "            width=300,\n",
    "            xanchor=\"right\"\n",
    "            )\n",
    "\n",
    "fig.add_annotation(x=0.99, y=0.30,\n",
    "            text=\"Um ponto importante é verificar a <br />redução em quase metade na <br />proporção de mulheres pretas eleitas.\",\n",
    "            showarrow=False,\n",
    "            xref='paper',\n",
    "            yref='paper',\n",
    "            width=250,\n",
    "            xanchor=\"right\"\n",
    "            )\n",
    "\n",
    "fig.update_yaxes( \n",
    "  showgrid=False,\n",
    "  linecolor=\"#C0C0C0\",\n",
    "  linewidth=1\n",
    ")\n",
    "\n",
    "fig.update_xaxes(  \n",
    "  showgrid=False,\n",
    "  linecolor=\"#C0C0C0\",\n",
    "  linewidth=1\n",
    ")\n",
    "\n",
    "fig.show()\n"
   ]
  },
  {
   "cell_type": "markdown",
   "id": "3e4d08ad-08f9-4c85-9a91-dc6d4215e86a",
   "metadata": {},
   "source": [
    "## Terceira Análise: um recorte de Aracaju\n",
    "\n",
    "Para visualizar um pouco mais essas proporções, utilizei Aracaju (a capital do estado) para um olhar mais detalhado da proporção de mulheres eleitas ao longo dos anos e posição que elas ocupam de acordo com o número de votos. "
   ]
  },
  {
   "cell_type": "code",
   "execution_count": 101,
   "id": "4842d140-0e26-4862-851a-06fcb8b3de44",
   "metadata": {},
   "outputs": [
    {
     "data": {
      "text/html": [
       "<div>\n",
       "<style scoped>\n",
       "    .dataframe tbody tr th:only-of-type {\n",
       "        vertical-align: middle;\n",
       "    }\n",
       "\n",
       "    .dataframe tbody tr th {\n",
       "        vertical-align: top;\n",
       "    }\n",
       "\n",
       "    .dataframe thead th {\n",
       "        text-align: right;\n",
       "    }\n",
       "</style>\n",
       "<table border=\"1\" class=\"dataframe\">\n",
       "  <thead>\n",
       "    <tr style=\"text-align: right;\">\n",
       "      <th></th>\n",
       "      <th>ano</th>\n",
       "      <th>sigla_uf</th>\n",
       "      <th>id_municipio</th>\n",
       "      <th>nome_municipio</th>\n",
       "      <th>tipo_eleicao</th>\n",
       "      <th>id_candidato_bd</th>\n",
       "      <th>nome_urna</th>\n",
       "      <th>sigla_partido</th>\n",
       "      <th>cargo</th>\n",
       "      <th>situacao</th>\n",
       "      <th>resultado</th>\n",
       "      <th>votos</th>\n",
       "      <th>genero</th>\n",
       "      <th>raca</th>\n",
       "      <th>idade</th>\n",
       "    </tr>\n",
       "  </thead>\n",
       "  <tbody>\n",
       "    <tr>\n",
       "      <th>0</th>\n",
       "      <td>2000</td>\n",
       "      <td>SE</td>\n",
       "      <td>2800308</td>\n",
       "      <td>Aracaju</td>\n",
       "      <td>eleicao ordinaria</td>\n",
       "      <td>829690</td>\n",
       "      <td>Barreto</td>\n",
       "      <td>PPS</td>\n",
       "      <td>vereador</td>\n",
       "      <td>deferido</td>\n",
       "      <td>eleito</td>\n",
       "      <td>4947</td>\n",
       "      <td>masculino</td>\n",
       "      <td>NaN</td>\n",
       "      <td>36.0</td>\n",
       "    </tr>\n",
       "    <tr>\n",
       "      <th>1</th>\n",
       "      <td>2000</td>\n",
       "      <td>SE</td>\n",
       "      <td>2800308</td>\n",
       "      <td>Aracaju</td>\n",
       "      <td>eleicao ordinaria</td>\n",
       "      <td>722885</td>\n",
       "      <td>Chiquinho</td>\n",
       "      <td>PT</td>\n",
       "      <td>vereador</td>\n",
       "      <td>deferido</td>\n",
       "      <td>eleito</td>\n",
       "      <td>4729</td>\n",
       "      <td>masculino</td>\n",
       "      <td>NaN</td>\n",
       "      <td>44.0</td>\n",
       "    </tr>\n",
       "    <tr>\n",
       "      <th>2</th>\n",
       "      <td>2000</td>\n",
       "      <td>SE</td>\n",
       "      <td>2800308</td>\n",
       "      <td>Aracaju</td>\n",
       "      <td>eleicao ordinaria</td>\n",
       "      <td>723744</td>\n",
       "      <td>Sérgio Carlos</td>\n",
       "      <td>PSDB</td>\n",
       "      <td>vereador</td>\n",
       "      <td>deferido</td>\n",
       "      <td>eleito</td>\n",
       "      <td>4046</td>\n",
       "      <td>masculino</td>\n",
       "      <td>NaN</td>\n",
       "      <td>42.0</td>\n",
       "    </tr>\n",
       "    <tr>\n",
       "      <th>3</th>\n",
       "      <td>2000</td>\n",
       "      <td>SE</td>\n",
       "      <td>2800308</td>\n",
       "      <td>Aracaju</td>\n",
       "      <td>eleicao ordinaria</td>\n",
       "      <td>658924</td>\n",
       "      <td>Bomfim</td>\n",
       "      <td>PPS</td>\n",
       "      <td>vereador</td>\n",
       "      <td>deferido</td>\n",
       "      <td>eleito por media</td>\n",
       "      <td>3300</td>\n",
       "      <td>masculino</td>\n",
       "      <td>NaN</td>\n",
       "      <td>56.0</td>\n",
       "    </tr>\n",
       "    <tr>\n",
       "      <th>4</th>\n",
       "      <td>2000</td>\n",
       "      <td>SE</td>\n",
       "      <td>2800308</td>\n",
       "      <td>Aracaju</td>\n",
       "      <td>eleicao ordinaria</td>\n",
       "      <td>626985</td>\n",
       "      <td>Carlos Magal</td>\n",
       "      <td>PT</td>\n",
       "      <td>vereador</td>\n",
       "      <td>deferido</td>\n",
       "      <td>eleito</td>\n",
       "      <td>3168</td>\n",
       "      <td>masculino</td>\n",
       "      <td>NaN</td>\n",
       "      <td>47.0</td>\n",
       "    </tr>\n",
       "    <tr>\n",
       "      <th>...</th>\n",
       "      <td>...</td>\n",
       "      <td>...</td>\n",
       "      <td>...</td>\n",
       "      <td>...</td>\n",
       "      <td>...</td>\n",
       "      <td>...</td>\n",
       "      <td>...</td>\n",
       "      <td>...</td>\n",
       "      <td>...</td>\n",
       "      <td>...</td>\n",
       "      <td>...</td>\n",
       "      <td>...</td>\n",
       "      <td>...</td>\n",
       "      <td>...</td>\n",
       "      <td>...</td>\n",
       "    </tr>\n",
       "    <tr>\n",
       "      <th>126</th>\n",
       "      <td>2020</td>\n",
       "      <td>SE</td>\n",
       "      <td>2800308</td>\n",
       "      <td>Aracaju</td>\n",
       "      <td>eleicao ordinaria</td>\n",
       "      <td>694328</td>\n",
       "      <td>Professora Ângela Melo</td>\n",
       "      <td>PT</td>\n",
       "      <td>vereador</td>\n",
       "      <td>deferido</td>\n",
       "      <td>eleito por qp</td>\n",
       "      <td>1882</td>\n",
       "      <td>feminino</td>\n",
       "      <td>amarela</td>\n",
       "      <td>64.0</td>\n",
       "    </tr>\n",
       "    <tr>\n",
       "      <th>127</th>\n",
       "      <td>2020</td>\n",
       "      <td>SE</td>\n",
       "      <td>2800308</td>\n",
       "      <td>Aracaju</td>\n",
       "      <td>eleicao ordinaria</td>\n",
       "      <td>1591</td>\n",
       "      <td>Sgt. Byron Estrelas Do Mar</td>\n",
       "      <td>REPUBLICANOS</td>\n",
       "      <td>vereador</td>\n",
       "      <td>deferido</td>\n",
       "      <td>eleito por media</td>\n",
       "      <td>1743</td>\n",
       "      <td>masculino</td>\n",
       "      <td>parda</td>\n",
       "      <td>42.0</td>\n",
       "    </tr>\n",
       "    <tr>\n",
       "      <th>128</th>\n",
       "      <td>2020</td>\n",
       "      <td>SE</td>\n",
       "      <td>2800308</td>\n",
       "      <td>Aracaju</td>\n",
       "      <td>eleicao ordinaria</td>\n",
       "      <td>774078</td>\n",
       "      <td>Paquito De Todos</td>\n",
       "      <td>SOLIDARIEDADE</td>\n",
       "      <td>vereador</td>\n",
       "      <td>deferido</td>\n",
       "      <td>eleito por media</td>\n",
       "      <td>1486</td>\n",
       "      <td>masculino</td>\n",
       "      <td>branca</td>\n",
       "      <td>59.0</td>\n",
       "    </tr>\n",
       "    <tr>\n",
       "      <th>129</th>\n",
       "      <td>2020</td>\n",
       "      <td>SE</td>\n",
       "      <td>2800308</td>\n",
       "      <td>Aracaju</td>\n",
       "      <td>eleicao ordinaria</td>\n",
       "      <td>1038140</td>\n",
       "      <td>Cícero Do Santa Maria</td>\n",
       "      <td>PODE</td>\n",
       "      <td>vereador</td>\n",
       "      <td>deferido</td>\n",
       "      <td>eleito por media</td>\n",
       "      <td>1470</td>\n",
       "      <td>masculino</td>\n",
       "      <td>branca</td>\n",
       "      <td>57.0</td>\n",
       "    </tr>\n",
       "    <tr>\n",
       "      <th>130</th>\n",
       "      <td>2020</td>\n",
       "      <td>SE</td>\n",
       "      <td>2800308</td>\n",
       "      <td>Aracaju</td>\n",
       "      <td>eleicao ordinaria</td>\n",
       "      <td>71263</td>\n",
       "      <td>Binho</td>\n",
       "      <td>PMN</td>\n",
       "      <td>vereador</td>\n",
       "      <td>deferido</td>\n",
       "      <td>eleito por media</td>\n",
       "      <td>1376</td>\n",
       "      <td>masculino</td>\n",
       "      <td>preta</td>\n",
       "      <td>38.0</td>\n",
       "    </tr>\n",
       "  </tbody>\n",
       "</table>\n",
       "<p>131 rows × 15 columns</p>\n",
       "</div>"
      ],
      "text/plain": [
       "      ano sigla_uf  id_municipio nome_municipio       tipo_eleicao  \\\n",
       "0    2000       SE       2800308        Aracaju  eleicao ordinaria   \n",
       "1    2000       SE       2800308        Aracaju  eleicao ordinaria   \n",
       "2    2000       SE       2800308        Aracaju  eleicao ordinaria   \n",
       "3    2000       SE       2800308        Aracaju  eleicao ordinaria   \n",
       "4    2000       SE       2800308        Aracaju  eleicao ordinaria   \n",
       "..    ...      ...           ...            ...                ...   \n",
       "126  2020       SE       2800308        Aracaju  eleicao ordinaria   \n",
       "127  2020       SE       2800308        Aracaju  eleicao ordinaria   \n",
       "128  2020       SE       2800308        Aracaju  eleicao ordinaria   \n",
       "129  2020       SE       2800308        Aracaju  eleicao ordinaria   \n",
       "130  2020       SE       2800308        Aracaju  eleicao ordinaria   \n",
       "\n",
       "     id_candidato_bd                   nome_urna  sigla_partido     cargo  \\\n",
       "0             829690                     Barreto            PPS  vereador   \n",
       "1             722885                   Chiquinho             PT  vereador   \n",
       "2             723744               Sérgio Carlos           PSDB  vereador   \n",
       "3             658924                      Bomfim            PPS  vereador   \n",
       "4             626985                Carlos Magal             PT  vereador   \n",
       "..               ...                         ...            ...       ...   \n",
       "126           694328      Professora Ângela Melo             PT  vereador   \n",
       "127             1591  Sgt. Byron Estrelas Do Mar   REPUBLICANOS  vereador   \n",
       "128           774078            Paquito De Todos  SOLIDARIEDADE  vereador   \n",
       "129          1038140       Cícero Do Santa Maria           PODE  vereador   \n",
       "130            71263                       Binho            PMN  vereador   \n",
       "\n",
       "     situacao         resultado  votos     genero     raca  idade  \n",
       "0    deferido            eleito   4947  masculino      NaN   36.0  \n",
       "1    deferido            eleito   4729  masculino      NaN   44.0  \n",
       "2    deferido            eleito   4046  masculino      NaN   42.0  \n",
       "3    deferido  eleito por media   3300  masculino      NaN   56.0  \n",
       "4    deferido            eleito   3168  masculino      NaN   47.0  \n",
       "..        ...               ...    ...        ...      ...    ...  \n",
       "126  deferido     eleito por qp   1882   feminino  amarela   64.0  \n",
       "127  deferido  eleito por media   1743  masculino    parda   42.0  \n",
       "128  deferido  eleito por media   1486  masculino   branca   59.0  \n",
       "129  deferido  eleito por media   1470  masculino   branca   57.0  \n",
       "130  deferido  eleito por media   1376  masculino    preta   38.0  \n",
       "\n",
       "[131 rows x 15 columns]"
      ]
     },
     "execution_count": 101,
     "metadata": {},
     "output_type": "execute_result"
    }
   ],
   "source": [
    "data5 = pd.read_csv(\"../output/lista_vereadores_eleitos_aracaju_por_ano.csv\") # dados de Aracaju\n",
    "data5"
   ]
  },
  {
   "cell_type": "code",
   "execution_count": 181,
   "id": "d5a959c3-0f86-4460-8510-1c55248f9eb6",
   "metadata": {},
   "outputs": [
    {
     "data": {
      "text/html": [
       "<div>\n",
       "<style scoped>\n",
       "    .dataframe tbody tr th:only-of-type {\n",
       "        vertical-align: middle;\n",
       "    }\n",
       "\n",
       "    .dataframe tbody tr th {\n",
       "        vertical-align: top;\n",
       "    }\n",
       "\n",
       "    .dataframe thead th {\n",
       "        text-align: right;\n",
       "    }\n",
       "</style>\n",
       "<table border=\"1\" class=\"dataframe\">\n",
       "  <thead>\n",
       "    <tr style=\"text-align: right;\">\n",
       "      <th></th>\n",
       "      <th>ano</th>\n",
       "      <th>genero</th>\n",
       "      <th>votos</th>\n",
       "      <th>posicao</th>\n",
       "      <th>genero_int</th>\n",
       "    </tr>\n",
       "  </thead>\n",
       "  <tbody>\n",
       "    <tr>\n",
       "      <th>0</th>\n",
       "      <td>2000</td>\n",
       "      <td>masculino</td>\n",
       "      <td>4947</td>\n",
       "      <td>1</td>\n",
       "      <td>0.0</td>\n",
       "    </tr>\n",
       "    <tr>\n",
       "      <th>1</th>\n",
       "      <td>2000</td>\n",
       "      <td>masculino</td>\n",
       "      <td>4729</td>\n",
       "      <td>2</td>\n",
       "      <td>0.0</td>\n",
       "    </tr>\n",
       "    <tr>\n",
       "      <th>2</th>\n",
       "      <td>2000</td>\n",
       "      <td>masculino</td>\n",
       "      <td>4046</td>\n",
       "      <td>3</td>\n",
       "      <td>0.0</td>\n",
       "    </tr>\n",
       "    <tr>\n",
       "      <th>3</th>\n",
       "      <td>2000</td>\n",
       "      <td>masculino</td>\n",
       "      <td>3300</td>\n",
       "      <td>4</td>\n",
       "      <td>0.0</td>\n",
       "    </tr>\n",
       "    <tr>\n",
       "      <th>4</th>\n",
       "      <td>2000</td>\n",
       "      <td>masculino</td>\n",
       "      <td>3168</td>\n",
       "      <td>5</td>\n",
       "      <td>0.0</td>\n",
       "    </tr>\n",
       "    <tr>\n",
       "      <th>...</th>\n",
       "      <td>...</td>\n",
       "      <td>...</td>\n",
       "      <td>...</td>\n",
       "      <td>...</td>\n",
       "      <td>...</td>\n",
       "    </tr>\n",
       "    <tr>\n",
       "      <th>126</th>\n",
       "      <td>2020</td>\n",
       "      <td>feminino</td>\n",
       "      <td>1882</td>\n",
       "      <td>20</td>\n",
       "      <td>1.0</td>\n",
       "    </tr>\n",
       "    <tr>\n",
       "      <th>127</th>\n",
       "      <td>2020</td>\n",
       "      <td>masculino</td>\n",
       "      <td>1743</td>\n",
       "      <td>21</td>\n",
       "      <td>0.0</td>\n",
       "    </tr>\n",
       "    <tr>\n",
       "      <th>128</th>\n",
       "      <td>2020</td>\n",
       "      <td>masculino</td>\n",
       "      <td>1486</td>\n",
       "      <td>22</td>\n",
       "      <td>0.0</td>\n",
       "    </tr>\n",
       "    <tr>\n",
       "      <th>129</th>\n",
       "      <td>2020</td>\n",
       "      <td>masculino</td>\n",
       "      <td>1470</td>\n",
       "      <td>23</td>\n",
       "      <td>0.0</td>\n",
       "    </tr>\n",
       "    <tr>\n",
       "      <th>130</th>\n",
       "      <td>2020</td>\n",
       "      <td>masculino</td>\n",
       "      <td>1376</td>\n",
       "      <td>24</td>\n",
       "      <td>0.0</td>\n",
       "    </tr>\n",
       "  </tbody>\n",
       "</table>\n",
       "<p>131 rows × 5 columns</p>\n",
       "</div>"
      ],
      "text/plain": [
       "      ano     genero  votos  posicao  genero_int\n",
       "0    2000  masculino   4947        1         0.0\n",
       "1    2000  masculino   4729        2         0.0\n",
       "2    2000  masculino   4046        3         0.0\n",
       "3    2000  masculino   3300        4         0.0\n",
       "4    2000  masculino   3168        5         0.0\n",
       "..    ...        ...    ...      ...         ...\n",
       "126  2020   feminino   1882       20         1.0\n",
       "127  2020  masculino   1743       21         0.0\n",
       "128  2020  masculino   1486       22         0.0\n",
       "129  2020  masculino   1470       23         0.0\n",
       "130  2020  masculino   1376       24         0.0\n",
       "\n",
       "[131 rows x 5 columns]"
      ]
     },
     "execution_count": 181,
     "metadata": {},
     "output_type": "execute_result"
    }
   ],
   "source": [
    "%%capture --no-display\n",
    "data_filter = data5[['ano','genero','votos']]\n",
    "data_filter.loc[:, 'posicao'] = data_filter.groupby(by=['ano']).votos.transform(lambda x : pd.factorize(x)[0]+1)\n",
    "data_filter.loc[data_filter['genero'] == 'masculino', 'genero_int'] = 0\n",
    "data_filter.loc[data_filter['genero'] == 'feminino', 'genero_int'] = 1\n",
    "data_filter"
   ]
  },
  {
   "cell_type": "markdown",
   "id": "6fc90d16-580d-4e8e-88a7-52a3d11a52ad",
   "metadata": {},
   "source": [
    "Podemos enxergar os dados acima de uma outra forma. Observe a tabela a seguir. É possível perceber que ao longo de 20 anos foram poucas as vezes que as mulheres ocuparam as primeiras posições nas votações para a câmara municipal de Aracaju. Na tabela, a coluna representa as posições e os quadrados destacados candidaturas de pessoas do gênero feminino."
   ]
  },
  {
   "cell_type": "code",
   "execution_count": 202,
   "id": "7cf02ecb-199b-4c07-a718-4ec6bc56eacd",
   "metadata": {},
   "outputs": [
    {
     "data": {
      "text/html": [
       "<style type=\"text/css\">\n",
       "#T_cdaea_row0_col8, #T_cdaea_row0_col13, #T_cdaea_row0_col17, #T_cdaea_row1_col6, #T_cdaea_row1_col8, #T_cdaea_row2_col1, #T_cdaea_row2_col9, #T_cdaea_row2_col15, #T_cdaea_row2_col16, #T_cdaea_row3_col6, #T_cdaea_row3_col17, #T_cdaea_row4_col2, #T_cdaea_row4_col13, #T_cdaea_row5_col0, #T_cdaea_row5_col1, #T_cdaea_row5_col13, #T_cdaea_row5_col19 {\n",
       "  background-color: lightblue;\n",
       "}\n",
       "</style>\n",
       "<table id=\"T_cdaea\">\n",
       "  <thead>\n",
       "    <tr>\n",
       "      <th class=\"blank level0\" >&nbsp;</th>\n",
       "      <th id=\"T_cdaea_level0_col0\" class=\"col_heading level0 col0\" colspan=\"24\">genero_int</th>\n",
       "    </tr>\n",
       "    <tr>\n",
       "      <th class=\"index_name level1\" >posicao</th>\n",
       "      <th id=\"T_cdaea_level1_col0\" class=\"col_heading level1 col0\" >1</th>\n",
       "      <th id=\"T_cdaea_level1_col1\" class=\"col_heading level1 col1\" >2</th>\n",
       "      <th id=\"T_cdaea_level1_col2\" class=\"col_heading level1 col2\" >3</th>\n",
       "      <th id=\"T_cdaea_level1_col3\" class=\"col_heading level1 col3\" >4</th>\n",
       "      <th id=\"T_cdaea_level1_col4\" class=\"col_heading level1 col4\" >5</th>\n",
       "      <th id=\"T_cdaea_level1_col5\" class=\"col_heading level1 col5\" >6</th>\n",
       "      <th id=\"T_cdaea_level1_col6\" class=\"col_heading level1 col6\" >7</th>\n",
       "      <th id=\"T_cdaea_level1_col7\" class=\"col_heading level1 col7\" >8</th>\n",
       "      <th id=\"T_cdaea_level1_col8\" class=\"col_heading level1 col8\" >9</th>\n",
       "      <th id=\"T_cdaea_level1_col9\" class=\"col_heading level1 col9\" >10</th>\n",
       "      <th id=\"T_cdaea_level1_col10\" class=\"col_heading level1 col10\" >11</th>\n",
       "      <th id=\"T_cdaea_level1_col11\" class=\"col_heading level1 col11\" >12</th>\n",
       "      <th id=\"T_cdaea_level1_col12\" class=\"col_heading level1 col12\" >13</th>\n",
       "      <th id=\"T_cdaea_level1_col13\" class=\"col_heading level1 col13\" >14</th>\n",
       "      <th id=\"T_cdaea_level1_col14\" class=\"col_heading level1 col14\" >15</th>\n",
       "      <th id=\"T_cdaea_level1_col15\" class=\"col_heading level1 col15\" >16</th>\n",
       "      <th id=\"T_cdaea_level1_col16\" class=\"col_heading level1 col16\" >17</th>\n",
       "      <th id=\"T_cdaea_level1_col17\" class=\"col_heading level1 col17\" >18</th>\n",
       "      <th id=\"T_cdaea_level1_col18\" class=\"col_heading level1 col18\" >19</th>\n",
       "      <th id=\"T_cdaea_level1_col19\" class=\"col_heading level1 col19\" >20</th>\n",
       "      <th id=\"T_cdaea_level1_col20\" class=\"col_heading level1 col20\" >21</th>\n",
       "      <th id=\"T_cdaea_level1_col21\" class=\"col_heading level1 col21\" >22</th>\n",
       "      <th id=\"T_cdaea_level1_col22\" class=\"col_heading level1 col22\" >23</th>\n",
       "      <th id=\"T_cdaea_level1_col23\" class=\"col_heading level1 col23\" >24</th>\n",
       "    </tr>\n",
       "    <tr>\n",
       "      <th class=\"index_name level0\" >ano</th>\n",
       "      <th class=\"blank col0\" >&nbsp;</th>\n",
       "      <th class=\"blank col1\" >&nbsp;</th>\n",
       "      <th class=\"blank col2\" >&nbsp;</th>\n",
       "      <th class=\"blank col3\" >&nbsp;</th>\n",
       "      <th class=\"blank col4\" >&nbsp;</th>\n",
       "      <th class=\"blank col5\" >&nbsp;</th>\n",
       "      <th class=\"blank col6\" >&nbsp;</th>\n",
       "      <th class=\"blank col7\" >&nbsp;</th>\n",
       "      <th class=\"blank col8\" >&nbsp;</th>\n",
       "      <th class=\"blank col9\" >&nbsp;</th>\n",
       "      <th class=\"blank col10\" >&nbsp;</th>\n",
       "      <th class=\"blank col11\" >&nbsp;</th>\n",
       "      <th class=\"blank col12\" >&nbsp;</th>\n",
       "      <th class=\"blank col13\" >&nbsp;</th>\n",
       "      <th class=\"blank col14\" >&nbsp;</th>\n",
       "      <th class=\"blank col15\" >&nbsp;</th>\n",
       "      <th class=\"blank col16\" >&nbsp;</th>\n",
       "      <th class=\"blank col17\" >&nbsp;</th>\n",
       "      <th class=\"blank col18\" >&nbsp;</th>\n",
       "      <th class=\"blank col19\" >&nbsp;</th>\n",
       "      <th class=\"blank col20\" >&nbsp;</th>\n",
       "      <th class=\"blank col21\" >&nbsp;</th>\n",
       "      <th class=\"blank col22\" >&nbsp;</th>\n",
       "      <th class=\"blank col23\" >&nbsp;</th>\n",
       "    </tr>\n",
       "  </thead>\n",
       "  <tbody>\n",
       "    <tr>\n",
       "      <th id=\"T_cdaea_level0_row0\" class=\"row_heading level0 row0\" >2000</th>\n",
       "      <td id=\"T_cdaea_row0_col0\" class=\"data row0 col0\" ></td>\n",
       "      <td id=\"T_cdaea_row0_col1\" class=\"data row0 col1\" ></td>\n",
       "      <td id=\"T_cdaea_row0_col2\" class=\"data row0 col2\" ></td>\n",
       "      <td id=\"T_cdaea_row0_col3\" class=\"data row0 col3\" ></td>\n",
       "      <td id=\"T_cdaea_row0_col4\" class=\"data row0 col4\" ></td>\n",
       "      <td id=\"T_cdaea_row0_col5\" class=\"data row0 col5\" ></td>\n",
       "      <td id=\"T_cdaea_row0_col6\" class=\"data row0 col6\" ></td>\n",
       "      <td id=\"T_cdaea_row0_col7\" class=\"data row0 col7\" ></td>\n",
       "      <td id=\"T_cdaea_row0_col8\" class=\"data row0 col8\" ></td>\n",
       "      <td id=\"T_cdaea_row0_col9\" class=\"data row0 col9\" ></td>\n",
       "      <td id=\"T_cdaea_row0_col10\" class=\"data row0 col10\" ></td>\n",
       "      <td id=\"T_cdaea_row0_col11\" class=\"data row0 col11\" ></td>\n",
       "      <td id=\"T_cdaea_row0_col12\" class=\"data row0 col12\" ></td>\n",
       "      <td id=\"T_cdaea_row0_col13\" class=\"data row0 col13\" ></td>\n",
       "      <td id=\"T_cdaea_row0_col14\" class=\"data row0 col14\" ></td>\n",
       "      <td id=\"T_cdaea_row0_col15\" class=\"data row0 col15\" ></td>\n",
       "      <td id=\"T_cdaea_row0_col16\" class=\"data row0 col16\" ></td>\n",
       "      <td id=\"T_cdaea_row0_col17\" class=\"data row0 col17\" ></td>\n",
       "      <td id=\"T_cdaea_row0_col18\" class=\"data row0 col18\" ></td>\n",
       "      <td id=\"T_cdaea_row0_col19\" class=\"data row0 col19\" ></td>\n",
       "      <td id=\"T_cdaea_row0_col20\" class=\"data row0 col20\" ></td>\n",
       "      <td id=\"T_cdaea_row0_col21\" class=\"data row0 col21\" ></td>\n",
       "      <td id=\"T_cdaea_row0_col22\" class=\"data row0 col22\" ></td>\n",
       "      <td id=\"T_cdaea_row0_col23\" class=\"data row0 col23\" ></td>\n",
       "    </tr>\n",
       "    <tr>\n",
       "      <th id=\"T_cdaea_level0_row1\" class=\"row_heading level0 row1\" >2004</th>\n",
       "      <td id=\"T_cdaea_row1_col0\" class=\"data row1 col0\" ></td>\n",
       "      <td id=\"T_cdaea_row1_col1\" class=\"data row1 col1\" ></td>\n",
       "      <td id=\"T_cdaea_row1_col2\" class=\"data row1 col2\" ></td>\n",
       "      <td id=\"T_cdaea_row1_col3\" class=\"data row1 col3\" ></td>\n",
       "      <td id=\"T_cdaea_row1_col4\" class=\"data row1 col4\" ></td>\n",
       "      <td id=\"T_cdaea_row1_col5\" class=\"data row1 col5\" ></td>\n",
       "      <td id=\"T_cdaea_row1_col6\" class=\"data row1 col6\" ></td>\n",
       "      <td id=\"T_cdaea_row1_col7\" class=\"data row1 col7\" ></td>\n",
       "      <td id=\"T_cdaea_row1_col8\" class=\"data row1 col8\" ></td>\n",
       "      <td id=\"T_cdaea_row1_col9\" class=\"data row1 col9\" ></td>\n",
       "      <td id=\"T_cdaea_row1_col10\" class=\"data row1 col10\" ></td>\n",
       "      <td id=\"T_cdaea_row1_col11\" class=\"data row1 col11\" ></td>\n",
       "      <td id=\"T_cdaea_row1_col12\" class=\"data row1 col12\" ></td>\n",
       "      <td id=\"T_cdaea_row1_col13\" class=\"data row1 col13\" ></td>\n",
       "      <td id=\"T_cdaea_row1_col14\" class=\"data row1 col14\" ></td>\n",
       "      <td id=\"T_cdaea_row1_col15\" class=\"data row1 col15\" ></td>\n",
       "      <td id=\"T_cdaea_row1_col16\" class=\"data row1 col16\" ></td>\n",
       "      <td id=\"T_cdaea_row1_col17\" class=\"data row1 col17\" ></td>\n",
       "      <td id=\"T_cdaea_row1_col18\" class=\"data row1 col18\" ></td>\n",
       "      <td id=\"T_cdaea_row1_col19\" class=\"data row1 col19\" ></td>\n",
       "      <td id=\"T_cdaea_row1_col20\" class=\"data row1 col20\" ></td>\n",
       "      <td id=\"T_cdaea_row1_col21\" class=\"data row1 col21\" ></td>\n",
       "      <td id=\"T_cdaea_row1_col22\" class=\"data row1 col22\" ></td>\n",
       "      <td id=\"T_cdaea_row1_col23\" class=\"data row1 col23\" ></td>\n",
       "    </tr>\n",
       "    <tr>\n",
       "      <th id=\"T_cdaea_level0_row2\" class=\"row_heading level0 row2\" >2008</th>\n",
       "      <td id=\"T_cdaea_row2_col0\" class=\"data row2 col0\" ></td>\n",
       "      <td id=\"T_cdaea_row2_col1\" class=\"data row2 col1\" ></td>\n",
       "      <td id=\"T_cdaea_row2_col2\" class=\"data row2 col2\" ></td>\n",
       "      <td id=\"T_cdaea_row2_col3\" class=\"data row2 col3\" ></td>\n",
       "      <td id=\"T_cdaea_row2_col4\" class=\"data row2 col4\" ></td>\n",
       "      <td id=\"T_cdaea_row2_col5\" class=\"data row2 col5\" ></td>\n",
       "      <td id=\"T_cdaea_row2_col6\" class=\"data row2 col6\" ></td>\n",
       "      <td id=\"T_cdaea_row2_col7\" class=\"data row2 col7\" ></td>\n",
       "      <td id=\"T_cdaea_row2_col8\" class=\"data row2 col8\" ></td>\n",
       "      <td id=\"T_cdaea_row2_col9\" class=\"data row2 col9\" ></td>\n",
       "      <td id=\"T_cdaea_row2_col10\" class=\"data row2 col10\" ></td>\n",
       "      <td id=\"T_cdaea_row2_col11\" class=\"data row2 col11\" ></td>\n",
       "      <td id=\"T_cdaea_row2_col12\" class=\"data row2 col12\" ></td>\n",
       "      <td id=\"T_cdaea_row2_col13\" class=\"data row2 col13\" ></td>\n",
       "      <td id=\"T_cdaea_row2_col14\" class=\"data row2 col14\" ></td>\n",
       "      <td id=\"T_cdaea_row2_col15\" class=\"data row2 col15\" ></td>\n",
       "      <td id=\"T_cdaea_row2_col16\" class=\"data row2 col16\" ></td>\n",
       "      <td id=\"T_cdaea_row2_col17\" class=\"data row2 col17\" ></td>\n",
       "      <td id=\"T_cdaea_row2_col18\" class=\"data row2 col18\" ></td>\n",
       "      <td id=\"T_cdaea_row2_col19\" class=\"data row2 col19\" ></td>\n",
       "      <td id=\"T_cdaea_row2_col20\" class=\"data row2 col20\" ></td>\n",
       "      <td id=\"T_cdaea_row2_col21\" class=\"data row2 col21\" ></td>\n",
       "      <td id=\"T_cdaea_row2_col22\" class=\"data row2 col22\" ></td>\n",
       "      <td id=\"T_cdaea_row2_col23\" class=\"data row2 col23\" ></td>\n",
       "    </tr>\n",
       "    <tr>\n",
       "      <th id=\"T_cdaea_level0_row3\" class=\"row_heading level0 row3\" >2012</th>\n",
       "      <td id=\"T_cdaea_row3_col0\" class=\"data row3 col0\" ></td>\n",
       "      <td id=\"T_cdaea_row3_col1\" class=\"data row3 col1\" ></td>\n",
       "      <td id=\"T_cdaea_row3_col2\" class=\"data row3 col2\" ></td>\n",
       "      <td id=\"T_cdaea_row3_col3\" class=\"data row3 col3\" ></td>\n",
       "      <td id=\"T_cdaea_row3_col4\" class=\"data row3 col4\" ></td>\n",
       "      <td id=\"T_cdaea_row3_col5\" class=\"data row3 col5\" ></td>\n",
       "      <td id=\"T_cdaea_row3_col6\" class=\"data row3 col6\" ></td>\n",
       "      <td id=\"T_cdaea_row3_col7\" class=\"data row3 col7\" ></td>\n",
       "      <td id=\"T_cdaea_row3_col8\" class=\"data row3 col8\" ></td>\n",
       "      <td id=\"T_cdaea_row3_col9\" class=\"data row3 col9\" ></td>\n",
       "      <td id=\"T_cdaea_row3_col10\" class=\"data row3 col10\" ></td>\n",
       "      <td id=\"T_cdaea_row3_col11\" class=\"data row3 col11\" ></td>\n",
       "      <td id=\"T_cdaea_row3_col12\" class=\"data row3 col12\" ></td>\n",
       "      <td id=\"T_cdaea_row3_col13\" class=\"data row3 col13\" ></td>\n",
       "      <td id=\"T_cdaea_row3_col14\" class=\"data row3 col14\" ></td>\n",
       "      <td id=\"T_cdaea_row3_col15\" class=\"data row3 col15\" ></td>\n",
       "      <td id=\"T_cdaea_row3_col16\" class=\"data row3 col16\" ></td>\n",
       "      <td id=\"T_cdaea_row3_col17\" class=\"data row3 col17\" ></td>\n",
       "      <td id=\"T_cdaea_row3_col18\" class=\"data row3 col18\" ></td>\n",
       "      <td id=\"T_cdaea_row3_col19\" class=\"data row3 col19\" ></td>\n",
       "      <td id=\"T_cdaea_row3_col20\" class=\"data row3 col20\" ></td>\n",
       "      <td id=\"T_cdaea_row3_col21\" class=\"data row3 col21\" ></td>\n",
       "      <td id=\"T_cdaea_row3_col22\" class=\"data row3 col22\" ></td>\n",
       "      <td id=\"T_cdaea_row3_col23\" class=\"data row3 col23\" ></td>\n",
       "    </tr>\n",
       "    <tr>\n",
       "      <th id=\"T_cdaea_level0_row4\" class=\"row_heading level0 row4\" >2016</th>\n",
       "      <td id=\"T_cdaea_row4_col0\" class=\"data row4 col0\" ></td>\n",
       "      <td id=\"T_cdaea_row4_col1\" class=\"data row4 col1\" ></td>\n",
       "      <td id=\"T_cdaea_row4_col2\" class=\"data row4 col2\" ></td>\n",
       "      <td id=\"T_cdaea_row4_col3\" class=\"data row4 col3\" ></td>\n",
       "      <td id=\"T_cdaea_row4_col4\" class=\"data row4 col4\" ></td>\n",
       "      <td id=\"T_cdaea_row4_col5\" class=\"data row4 col5\" ></td>\n",
       "      <td id=\"T_cdaea_row4_col6\" class=\"data row4 col6\" ></td>\n",
       "      <td id=\"T_cdaea_row4_col7\" class=\"data row4 col7\" ></td>\n",
       "      <td id=\"T_cdaea_row4_col8\" class=\"data row4 col8\" ></td>\n",
       "      <td id=\"T_cdaea_row4_col9\" class=\"data row4 col9\" ></td>\n",
       "      <td id=\"T_cdaea_row4_col10\" class=\"data row4 col10\" ></td>\n",
       "      <td id=\"T_cdaea_row4_col11\" class=\"data row4 col11\" ></td>\n",
       "      <td id=\"T_cdaea_row4_col12\" class=\"data row4 col12\" ></td>\n",
       "      <td id=\"T_cdaea_row4_col13\" class=\"data row4 col13\" ></td>\n",
       "      <td id=\"T_cdaea_row4_col14\" class=\"data row4 col14\" ></td>\n",
       "      <td id=\"T_cdaea_row4_col15\" class=\"data row4 col15\" ></td>\n",
       "      <td id=\"T_cdaea_row4_col16\" class=\"data row4 col16\" ></td>\n",
       "      <td id=\"T_cdaea_row4_col17\" class=\"data row4 col17\" ></td>\n",
       "      <td id=\"T_cdaea_row4_col18\" class=\"data row4 col18\" ></td>\n",
       "      <td id=\"T_cdaea_row4_col19\" class=\"data row4 col19\" ></td>\n",
       "      <td id=\"T_cdaea_row4_col20\" class=\"data row4 col20\" ></td>\n",
       "      <td id=\"T_cdaea_row4_col21\" class=\"data row4 col21\" ></td>\n",
       "      <td id=\"T_cdaea_row4_col22\" class=\"data row4 col22\" ></td>\n",
       "      <td id=\"T_cdaea_row4_col23\" class=\"data row4 col23\" ></td>\n",
       "    </tr>\n",
       "    <tr>\n",
       "      <th id=\"T_cdaea_level0_row5\" class=\"row_heading level0 row5\" >2020</th>\n",
       "      <td id=\"T_cdaea_row5_col0\" class=\"data row5 col0\" ></td>\n",
       "      <td id=\"T_cdaea_row5_col1\" class=\"data row5 col1\" ></td>\n",
       "      <td id=\"T_cdaea_row5_col2\" class=\"data row5 col2\" ></td>\n",
       "      <td id=\"T_cdaea_row5_col3\" class=\"data row5 col3\" ></td>\n",
       "      <td id=\"T_cdaea_row5_col4\" class=\"data row5 col4\" ></td>\n",
       "      <td id=\"T_cdaea_row5_col5\" class=\"data row5 col5\" ></td>\n",
       "      <td id=\"T_cdaea_row5_col6\" class=\"data row5 col6\" ></td>\n",
       "      <td id=\"T_cdaea_row5_col7\" class=\"data row5 col7\" ></td>\n",
       "      <td id=\"T_cdaea_row5_col8\" class=\"data row5 col8\" ></td>\n",
       "      <td id=\"T_cdaea_row5_col9\" class=\"data row5 col9\" ></td>\n",
       "      <td id=\"T_cdaea_row5_col10\" class=\"data row5 col10\" ></td>\n",
       "      <td id=\"T_cdaea_row5_col11\" class=\"data row5 col11\" ></td>\n",
       "      <td id=\"T_cdaea_row5_col12\" class=\"data row5 col12\" ></td>\n",
       "      <td id=\"T_cdaea_row5_col13\" class=\"data row5 col13\" ></td>\n",
       "      <td id=\"T_cdaea_row5_col14\" class=\"data row5 col14\" ></td>\n",
       "      <td id=\"T_cdaea_row5_col15\" class=\"data row5 col15\" ></td>\n",
       "      <td id=\"T_cdaea_row5_col16\" class=\"data row5 col16\" ></td>\n",
       "      <td id=\"T_cdaea_row5_col17\" class=\"data row5 col17\" ></td>\n",
       "      <td id=\"T_cdaea_row5_col18\" class=\"data row5 col18\" ></td>\n",
       "      <td id=\"T_cdaea_row5_col19\" class=\"data row5 col19\" ></td>\n",
       "      <td id=\"T_cdaea_row5_col20\" class=\"data row5 col20\" ></td>\n",
       "      <td id=\"T_cdaea_row5_col21\" class=\"data row5 col21\" ></td>\n",
       "      <td id=\"T_cdaea_row5_col22\" class=\"data row5 col22\" ></td>\n",
       "      <td id=\"T_cdaea_row5_col23\" class=\"data row5 col23\" ></td>\n",
       "    </tr>\n",
       "  </tbody>\n",
       "</table>\n"
      ],
      "text/plain": [
       "<pandas.io.formats.style.Styler at 0x7fa49875a730>"
      ]
     },
     "execution_count": 202,
     "metadata": {},
     "output_type": "execute_result"
    }
   ],
   "source": [
    "pd.set_option('display.max_columns', None)\n",
    "data_pivoted = pd.pivot_table(data_filter, values=['genero_int'], index=['ano'], columns=['posicao'])\n",
    "(data_pivoted.style\n",
    "    .format('', na_rep='')\n",
    "     .highlight_max(color='lightblue', axis=1)\n",
    ")"
   ]
  },
  {
   "cell_type": "markdown",
   "id": "0f3b727f-864e-4358-919f-e7c485bab16b",
   "metadata": {},
   "source": [
    "### Quarta Análise: Detalhes por município\n",
    "\n",
    "Na última análise destes dados, o foco será olhar com mais detalhes como essa proporção de mulheres eleitas se comporta nos 75 munícipios. Como são muitos municípios, o foco vai ser olhar uma visão mais geral para tirar algumas informações importantes. "
   ]
  },
  {
   "cell_type": "code",
   "execution_count": 204,
   "id": "d3090940-ee39-437d-b42b-578a3f87817d",
   "metadata": {},
   "outputs": [
    {
     "data": {
      "text/html": [
       "<div>\n",
       "<style scoped>\n",
       "    .dataframe tbody tr th:only-of-type {\n",
       "        vertical-align: middle;\n",
       "    }\n",
       "\n",
       "    .dataframe tbody tr th {\n",
       "        vertical-align: top;\n",
       "    }\n",
       "\n",
       "    .dataframe thead th {\n",
       "        text-align: right;\n",
       "    }\n",
       "</style>\n",
       "<table border=\"1\" class=\"dataframe\">\n",
       "  <thead>\n",
       "    <tr style=\"text-align: right;\">\n",
       "      <th></th>\n",
       "      <th>ano</th>\n",
       "      <th>id_municipio</th>\n",
       "      <th>nome_municipio</th>\n",
       "      <th>genero</th>\n",
       "      <th>total_por_genero</th>\n",
       "      <th>total</th>\n",
       "      <th>porcentagem</th>\n",
       "    </tr>\n",
       "  </thead>\n",
       "  <tbody>\n",
       "    <tr>\n",
       "      <th>0</th>\n",
       "      <td>2000</td>\n",
       "      <td>2800100</td>\n",
       "      <td>Amparo de São Francisco</td>\n",
       "      <td>feminino</td>\n",
       "      <td>3</td>\n",
       "      <td>9.0</td>\n",
       "      <td>0.333333</td>\n",
       "    </tr>\n",
       "    <tr>\n",
       "      <th>1</th>\n",
       "      <td>2000</td>\n",
       "      <td>2800100</td>\n",
       "      <td>Amparo de São Francisco</td>\n",
       "      <td>masculino</td>\n",
       "      <td>6</td>\n",
       "      <td>9.0</td>\n",
       "      <td>0.666667</td>\n",
       "    </tr>\n",
       "    <tr>\n",
       "      <th>2</th>\n",
       "      <td>2000</td>\n",
       "      <td>2800209</td>\n",
       "      <td>Aquidabã</td>\n",
       "      <td>feminino</td>\n",
       "      <td>1</td>\n",
       "      <td>11.0</td>\n",
       "      <td>0.090909</td>\n",
       "    </tr>\n",
       "    <tr>\n",
       "      <th>3</th>\n",
       "      <td>2000</td>\n",
       "      <td>2800209</td>\n",
       "      <td>Aquidabã</td>\n",
       "      <td>masculino</td>\n",
       "      <td>10</td>\n",
       "      <td>11.0</td>\n",
       "      <td>0.909091</td>\n",
       "    </tr>\n",
       "    <tr>\n",
       "      <th>4</th>\n",
       "      <td>2000</td>\n",
       "      <td>2800308</td>\n",
       "      <td>Aracaju</td>\n",
       "      <td>feminino</td>\n",
       "      <td>3</td>\n",
       "      <td>21.0</td>\n",
       "      <td>0.142857</td>\n",
       "    </tr>\n",
       "    <tr>\n",
       "      <th>...</th>\n",
       "      <td>...</td>\n",
       "      <td>...</td>\n",
       "      <td>...</td>\n",
       "      <td>...</td>\n",
       "      <td>...</td>\n",
       "      <td>...</td>\n",
       "      <td>...</td>\n",
       "    </tr>\n",
       "    <tr>\n",
       "      <th>816</th>\n",
       "      <td>2020</td>\n",
       "      <td>2807402</td>\n",
       "      <td>Tobias Barreto</td>\n",
       "      <td>masculino</td>\n",
       "      <td>12</td>\n",
       "      <td>14.0</td>\n",
       "      <td>0.857143</td>\n",
       "    </tr>\n",
       "    <tr>\n",
       "      <th>817</th>\n",
       "      <td>2020</td>\n",
       "      <td>2807501</td>\n",
       "      <td>Tomar do Geru</td>\n",
       "      <td>feminino</td>\n",
       "      <td>3</td>\n",
       "      <td>9.0</td>\n",
       "      <td>0.333333</td>\n",
       "    </tr>\n",
       "    <tr>\n",
       "      <th>818</th>\n",
       "      <td>2020</td>\n",
       "      <td>2807501</td>\n",
       "      <td>Tomar do Geru</td>\n",
       "      <td>masculino</td>\n",
       "      <td>6</td>\n",
       "      <td>9.0</td>\n",
       "      <td>0.666667</td>\n",
       "    </tr>\n",
       "    <tr>\n",
       "      <th>819</th>\n",
       "      <td>2020</td>\n",
       "      <td>2807600</td>\n",
       "      <td>Umbaúba</td>\n",
       "      <td>feminino</td>\n",
       "      <td>1</td>\n",
       "      <td>11.0</td>\n",
       "      <td>0.090909</td>\n",
       "    </tr>\n",
       "    <tr>\n",
       "      <th>820</th>\n",
       "      <td>2020</td>\n",
       "      <td>2807600</td>\n",
       "      <td>Umbaúba</td>\n",
       "      <td>masculino</td>\n",
       "      <td>10</td>\n",
       "      <td>11.0</td>\n",
       "      <td>0.909091</td>\n",
       "    </tr>\n",
       "  </tbody>\n",
       "</table>\n",
       "<p>821 rows × 7 columns</p>\n",
       "</div>"
      ],
      "text/plain": [
       "      ano  id_municipio           nome_municipio     genero  total_por_genero  \\\n",
       "0    2000       2800100  Amparo de São Francisco   feminino                 3   \n",
       "1    2000       2800100  Amparo de São Francisco  masculino                 6   \n",
       "2    2000       2800209                 Aquidabã   feminino                 1   \n",
       "3    2000       2800209                 Aquidabã  masculino                10   \n",
       "4    2000       2800308                  Aracaju   feminino                 3   \n",
       "..    ...           ...                      ...        ...               ...   \n",
       "816  2020       2807402           Tobias Barreto  masculino                12   \n",
       "817  2020       2807501            Tomar do Geru   feminino                 3   \n",
       "818  2020       2807501            Tomar do Geru  masculino                 6   \n",
       "819  2020       2807600                  Umbaúba   feminino                 1   \n",
       "820  2020       2807600                  Umbaúba  masculino                10   \n",
       "\n",
       "     total  porcentagem  \n",
       "0      9.0     0.333333  \n",
       "1      9.0     0.666667  \n",
       "2     11.0     0.090909  \n",
       "3     11.0     0.909091  \n",
       "4     21.0     0.142857  \n",
       "..     ...          ...  \n",
       "816   14.0     0.857143  \n",
       "817    9.0     0.333333  \n",
       "818    9.0     0.666667  \n",
       "819   11.0     0.090909  \n",
       "820   11.0     0.909091  \n",
       "\n",
       "[821 rows x 7 columns]"
      ]
     },
     "execution_count": 204,
     "metadata": {},
     "output_type": "execute_result"
    }
   ],
   "source": [
    "data6 = pd.read_csv(\"../output/total_vereadores_por_ano_municipio_genero.csv\")\n",
    "data6"
   ]
  },
  {
   "cell_type": "code",
   "execution_count": null,
   "id": "28341588-196f-4433-9ca6-925f6078fe3b",
   "metadata": {},
   "outputs": [],
   "source": []
  }
 ],
 "metadata": {
  "kernelspec": {
   "display_name": "Python 3 (ipykernel)",
   "language": "python",
   "name": "python3"
  },
  "language_info": {
   "codemirror_mode": {
    "name": "ipython",
    "version": 3
   },
   "file_extension": ".py",
   "mimetype": "text/x-python",
   "name": "python",
   "nbconvert_exporter": "python",
   "pygments_lexer": "ipython3",
   "version": "3.9.7"
  }
 },
 "nbformat": 4,
 "nbformat_minor": 5
}
